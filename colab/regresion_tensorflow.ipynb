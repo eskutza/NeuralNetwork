{
  "nbformat": 4,
  "nbformat_minor": 0,
  "metadata": {
    "colab": {
      "provenance": [],
      "authorship_tag": "ABX9TyN4zIUNKQZ6jhmqLtYPxclD",
      "include_colab_link": true
    },
    "kernelspec": {
      "name": "python3",
      "display_name": "Python 3"
    },
    "language_info": {
      "name": "python"
    }
  },
  "cells": [
    {
      "cell_type": "markdown",
      "metadata": {
        "id": "view-in-github",
        "colab_type": "text"
      },
      "source": [
        "<a href=\"https://colab.research.google.com/github/eskutza/NeuralNetwork/blob/main/colab/regresion_tensorflow.ipynb\" target=\"_parent\"><img src=\"https://colab.research.google.com/assets/colab-badge.svg\" alt=\"Open In Colab\"/></a>"
      ]
    },
    {
      "cell_type": "markdown",
      "source": [
        "<center>\n",
        "\n",
        "![esku-tza 05.jpg](data:image/jpeg;base64,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)\n",
        "\n",
        "</center>\n"
      ],
      "metadata": {
        "id": "9qB_CAmVCzQj"
      }
    },
    {
      "cell_type": "markdown",
      "source": [
        "<h1><b>\n",
        "Dirección de Estudios de Posgrado y Educación Continua\n",
        "<h1><b>\n",
        "Inteligencia Artificial con Tensorflow y PyTorch"
      ],
      "metadata": {
        "id": "bcvZqmIwDkWD"
      }
    },
    {
      "cell_type": "markdown",
      "source": [
        "# <h2><font color=\"#0A66C2\"> **Fase 1: cargar librerías**"
      ],
      "metadata": {
        "id": "EE7emjsyFYK1"
      }
    },
    {
      "cell_type": "markdown",
      "source": [
        "### <font color=\"#333F49\">**Tensorflow** <font>"
      ],
      "metadata": {
        "id": "vCp8T5XoGEOq"
      }
    },
    {
      "cell_type": "code",
      "source": [
        "from tensorflow import keras"
      ],
      "metadata": {
        "id": "AGIJJiiJGPE6"
      },
      "execution_count": 1,
      "outputs": []
    },
    {
      "cell_type": "code",
      "source": [
        "from tensorflow.keras import layers"
      ],
      "metadata": {
        "id": "Kmgh-SMaHADD"
      },
      "execution_count": 2,
      "outputs": []
    },
    {
      "cell_type": "markdown",
      "source": [
        "### <font color=\"#333F49\">**Sklearn** <font>"
      ],
      "metadata": {
        "id": "syYGcGvsHMJM"
      }
    },
    {
      "cell_type": "code",
      "source": [
        "from sklearn.model_selection import train_test_split\n",
        "from sklearn.preprocessing import StandardScaler\n",
        "from sklearn.metrics import r2_score"
      ],
      "metadata": {
        "id": "zHzEfEj_Haka"
      },
      "execution_count": 3,
      "outputs": []
    },
    {
      "cell_type": "markdown",
      "source": [
        "### <font color=\"#333F49\"> **Para el análisis de datos y el conjunto de datos** <font>"
      ],
      "metadata": {
        "id": "bM7QQrsnH9BC"
      }
    },
    {
      "cell_type": "code",
      "source": [
        "import pandas as pd\n",
        "import numpy as np\n",
        "import seaborn as sns"
      ],
      "metadata": {
        "id": "BYt1jp5oIIuz"
      },
      "execution_count": 4,
      "outputs": []
    },
    {
      "cell_type": "markdown",
      "source": [
        "### <font color=\"#333F49\"> **Para los gráficos** <font>"
      ],
      "metadata": {
        "id": "yAN4TPm0ITVx"
      }
    },
    {
      "cell_type": "code",
      "source": [
        "import matplotlib.pyplot as plt\n",
        "from joblib import dump, load"
      ],
      "metadata": {
        "id": "S2cFH6J-Igws"
      },
      "execution_count": 5,
      "outputs": []
    },
    {
      "cell_type": "markdown",
      "source": [
        "# <h2><font color=\"#0A66C2\"> **Fase 2: cargar el dataset y cálculos estadísticos iniciales**"
      ],
      "metadata": {
        "id": "C7rwJQKiJhtb"
      }
    },
    {
      "cell_type": "code",
      "source": [
        "url = \"https://raw.githubusercontent.com/eskutza/NeuralNetwork/main/datasets/power-plant-gas-emissions.csv\""
      ],
      "metadata": {
        "id": "97N7tCNSLcGK"
      },
      "execution_count": 6,
      "outputs": []
    },
    {
      "cell_type": "code",
      "source": [
        "df = pd.read_csv(url, sep =',')\n",
        "df"
      ],
      "metadata": {
        "colab": {
          "base_uri": "https://localhost:8080/",
          "height": 488
        },
        "id": "GBQlRN5xjXH5",
        "outputId": "5b6505d6-7a93-49ad-9cbf-ccf65a3d474d"
      },
      "execution_count": 7,
      "outputs": [
        {
          "output_type": "execute_result",
          "data": {
            "text/plain": [
              "       ambient_temperature  ambient_pressure  ambient_humidity  \\\n",
              "0                   4.5878            1018.7            83.675   \n",
              "1                   4.2932            1018.3            84.235   \n",
              "2                   3.9045            1018.4            84.858   \n",
              "3                   3.7436            1018.3            85.434   \n",
              "4                   3.7516            1017.8            85.182   \n",
              "...                    ...               ...               ...   \n",
              "36728               3.6268            1028.5            93.200   \n",
              "36729               4.1674            1028.6            94.036   \n",
              "36730               5.4820            1028.5            95.219   \n",
              "36731               5.8837            1028.7            94.200   \n",
              "36732               6.0392            1028.8            94.547   \n",
              "\n",
              "       air_filter_difference_pressure  gas_turbine_exhaust_pressure  \\\n",
              "0                              3.5758                        23.979   \n",
              "1                              3.5709                        23.951   \n",
              "2                              3.5828                        23.990   \n",
              "3                              3.5808                        23.911   \n",
              "4                              3.5781                        23.917   \n",
              "...                               ...                           ...   \n",
              "36728                          3.1661                        19.087   \n",
              "36729                          3.1923                        19.016   \n",
              "36730                          3.3128                        18.857   \n",
              "36731                          3.9831                        23.563   \n",
              "36732                          3.8752                        22.524   \n",
              "\n",
              "       turbine_inlet_temperature  turbine_after_temperature  \\\n",
              "0                         1086.2                     549.83   \n",
              "1                         1086.1                     550.05   \n",
              "2                         1086.5                     550.19   \n",
              "3                         1086.5                     550.17   \n",
              "4                         1085.9                     550.00   \n",
              "...                          ...                        ...   \n",
              "36728                     1037.0                     541.59   \n",
              "36729                     1037.6                     542.28   \n",
              "36730                     1038.0                     543.48   \n",
              "36731                     1076.9                     550.11   \n",
              "36732                     1067.9                     548.23   \n",
              "\n",
              "       compressor_discharge_pressure  turbine_energy_yield        CO      NOx  \n",
              "0                             134.67                11.898   0.32663   81.952  \n",
              "1                             134.67                11.892   0.44784   82.377  \n",
              "2                             135.10                12.042   0.45144   83.776  \n",
              "3                             135.03                11.990   0.23107   82.505  \n",
              "4                             134.67                11.910   0.26747   82.028  \n",
              "...                              ...                   ...       ...      ...  \n",
              "36728                         109.08                10.411  10.99300   89.172  \n",
              "36729                         108.79                10.344  11.14400   88.849  \n",
              "36730                         107.81                10.462  11.41400   96.147  \n",
              "36731                         131.41                11.771   3.31340   64.738  \n",
              "36732                         125.41                11.462  11.98100  109.240  \n",
              "\n",
              "[36733 rows x 11 columns]"
            ],
            "text/html": [
              "\n",
              "  <div id=\"df-e6ddbd6d-06db-4101-aa41-ff9619248501\">\n",
              "    <div class=\"colab-df-container\">\n",
              "      <div>\n",
              "<style scoped>\n",
              "    .dataframe tbody tr th:only-of-type {\n",
              "        vertical-align: middle;\n",
              "    }\n",
              "\n",
              "    .dataframe tbody tr th {\n",
              "        vertical-align: top;\n",
              "    }\n",
              "\n",
              "    .dataframe thead th {\n",
              "        text-align: right;\n",
              "    }\n",
              "</style>\n",
              "<table border=\"1\" class=\"dataframe\">\n",
              "  <thead>\n",
              "    <tr style=\"text-align: right;\">\n",
              "      <th></th>\n",
              "      <th>ambient_temperature</th>\n",
              "      <th>ambient_pressure</th>\n",
              "      <th>ambient_humidity</th>\n",
              "      <th>air_filter_difference_pressure</th>\n",
              "      <th>gas_turbine_exhaust_pressure</th>\n",
              "      <th>turbine_inlet_temperature</th>\n",
              "      <th>turbine_after_temperature</th>\n",
              "      <th>compressor_discharge_pressure</th>\n",
              "      <th>turbine_energy_yield</th>\n",
              "      <th>CO</th>\n",
              "      <th>NOx</th>\n",
              "    </tr>\n",
              "  </thead>\n",
              "  <tbody>\n",
              "    <tr>\n",
              "      <th>0</th>\n",
              "      <td>4.5878</td>\n",
              "      <td>1018.7</td>\n",
              "      <td>83.675</td>\n",
              "      <td>3.5758</td>\n",
              "      <td>23.979</td>\n",
              "      <td>1086.2</td>\n",
              "      <td>549.83</td>\n",
              "      <td>134.67</td>\n",
              "      <td>11.898</td>\n",
              "      <td>0.32663</td>\n",
              "      <td>81.952</td>\n",
              "    </tr>\n",
              "    <tr>\n",
              "      <th>1</th>\n",
              "      <td>4.2932</td>\n",
              "      <td>1018.3</td>\n",
              "      <td>84.235</td>\n",
              "      <td>3.5709</td>\n",
              "      <td>23.951</td>\n",
              "      <td>1086.1</td>\n",
              "      <td>550.05</td>\n",
              "      <td>134.67</td>\n",
              "      <td>11.892</td>\n",
              "      <td>0.44784</td>\n",
              "      <td>82.377</td>\n",
              "    </tr>\n",
              "    <tr>\n",
              "      <th>2</th>\n",
              "      <td>3.9045</td>\n",
              "      <td>1018.4</td>\n",
              "      <td>84.858</td>\n",
              "      <td>3.5828</td>\n",
              "      <td>23.990</td>\n",
              "      <td>1086.5</td>\n",
              "      <td>550.19</td>\n",
              "      <td>135.10</td>\n",
              "      <td>12.042</td>\n",
              "      <td>0.45144</td>\n",
              "      <td>83.776</td>\n",
              "    </tr>\n",
              "    <tr>\n",
              "      <th>3</th>\n",
              "      <td>3.7436</td>\n",
              "      <td>1018.3</td>\n",
              "      <td>85.434</td>\n",
              "      <td>3.5808</td>\n",
              "      <td>23.911</td>\n",
              "      <td>1086.5</td>\n",
              "      <td>550.17</td>\n",
              "      <td>135.03</td>\n",
              "      <td>11.990</td>\n",
              "      <td>0.23107</td>\n",
              "      <td>82.505</td>\n",
              "    </tr>\n",
              "    <tr>\n",
              "      <th>4</th>\n",
              "      <td>3.7516</td>\n",
              "      <td>1017.8</td>\n",
              "      <td>85.182</td>\n",
              "      <td>3.5781</td>\n",
              "      <td>23.917</td>\n",
              "      <td>1085.9</td>\n",
              "      <td>550.00</td>\n",
              "      <td>134.67</td>\n",
              "      <td>11.910</td>\n",
              "      <td>0.26747</td>\n",
              "      <td>82.028</td>\n",
              "    </tr>\n",
              "    <tr>\n",
              "      <th>...</th>\n",
              "      <td>...</td>\n",
              "      <td>...</td>\n",
              "      <td>...</td>\n",
              "      <td>...</td>\n",
              "      <td>...</td>\n",
              "      <td>...</td>\n",
              "      <td>...</td>\n",
              "      <td>...</td>\n",
              "      <td>...</td>\n",
              "      <td>...</td>\n",
              "      <td>...</td>\n",
              "    </tr>\n",
              "    <tr>\n",
              "      <th>36728</th>\n",
              "      <td>3.6268</td>\n",
              "      <td>1028.5</td>\n",
              "      <td>93.200</td>\n",
              "      <td>3.1661</td>\n",
              "      <td>19.087</td>\n",
              "      <td>1037.0</td>\n",
              "      <td>541.59</td>\n",
              "      <td>109.08</td>\n",
              "      <td>10.411</td>\n",
              "      <td>10.99300</td>\n",
              "      <td>89.172</td>\n",
              "    </tr>\n",
              "    <tr>\n",
              "      <th>36729</th>\n",
              "      <td>4.1674</td>\n",
              "      <td>1028.6</td>\n",
              "      <td>94.036</td>\n",
              "      <td>3.1923</td>\n",
              "      <td>19.016</td>\n",
              "      <td>1037.6</td>\n",
              "      <td>542.28</td>\n",
              "      <td>108.79</td>\n",
              "      <td>10.344</td>\n",
              "      <td>11.14400</td>\n",
              "      <td>88.849</td>\n",
              "    </tr>\n",
              "    <tr>\n",
              "      <th>36730</th>\n",
              "      <td>5.4820</td>\n",
              "      <td>1028.5</td>\n",
              "      <td>95.219</td>\n",
              "      <td>3.3128</td>\n",
              "      <td>18.857</td>\n",
              "      <td>1038.0</td>\n",
              "      <td>543.48</td>\n",
              "      <td>107.81</td>\n",
              "      <td>10.462</td>\n",
              "      <td>11.41400</td>\n",
              "      <td>96.147</td>\n",
              "    </tr>\n",
              "    <tr>\n",
              "      <th>36731</th>\n",
              "      <td>5.8837</td>\n",
              "      <td>1028.7</td>\n",
              "      <td>94.200</td>\n",
              "      <td>3.9831</td>\n",
              "      <td>23.563</td>\n",
              "      <td>1076.9</td>\n",
              "      <td>550.11</td>\n",
              "      <td>131.41</td>\n",
              "      <td>11.771</td>\n",
              "      <td>3.31340</td>\n",
              "      <td>64.738</td>\n",
              "    </tr>\n",
              "    <tr>\n",
              "      <th>36732</th>\n",
              "      <td>6.0392</td>\n",
              "      <td>1028.8</td>\n",
              "      <td>94.547</td>\n",
              "      <td>3.8752</td>\n",
              "      <td>22.524</td>\n",
              "      <td>1067.9</td>\n",
              "      <td>548.23</td>\n",
              "      <td>125.41</td>\n",
              "      <td>11.462</td>\n",
              "      <td>11.98100</td>\n",
              "      <td>109.240</td>\n",
              "    </tr>\n",
              "  </tbody>\n",
              "</table>\n",
              "<p>36733 rows × 11 columns</p>\n",
              "</div>\n",
              "      <button class=\"colab-df-convert\" onclick=\"convertToInteractive('df-e6ddbd6d-06db-4101-aa41-ff9619248501')\"\n",
              "              title=\"Convert this dataframe to an interactive table.\"\n",
              "              style=\"display:none;\">\n",
              "        \n",
              "  <svg xmlns=\"http://www.w3.org/2000/svg\" height=\"24px\"viewBox=\"0 0 24 24\"\n",
              "       width=\"24px\">\n",
              "    <path d=\"M0 0h24v24H0V0z\" fill=\"none\"/>\n",
              "    <path d=\"M18.56 5.44l.94 2.06.94-2.06 2.06-.94-2.06-.94-.94-2.06-.94 2.06-2.06.94zm-11 1L8.5 8.5l.94-2.06 2.06-.94-2.06-.94L8.5 2.5l-.94 2.06-2.06.94zm10 10l.94 2.06.94-2.06 2.06-.94-2.06-.94-.94-2.06-.94 2.06-2.06.94z\"/><path d=\"M17.41 7.96l-1.37-1.37c-.4-.4-.92-.59-1.43-.59-.52 0-1.04.2-1.43.59L10.3 9.45l-7.72 7.72c-.78.78-.78 2.05 0 2.83L4 21.41c.39.39.9.59 1.41.59.51 0 1.02-.2 1.41-.59l7.78-7.78 2.81-2.81c.8-.78.8-2.07 0-2.86zM5.41 20L4 18.59l7.72-7.72 1.47 1.35L5.41 20z\"/>\n",
              "  </svg>\n",
              "      </button>\n",
              "      \n",
              "  <style>\n",
              "    .colab-df-container {\n",
              "      display:flex;\n",
              "      flex-wrap:wrap;\n",
              "      gap: 12px;\n",
              "    }\n",
              "\n",
              "    .colab-df-convert {\n",
              "      background-color: #E8F0FE;\n",
              "      border: none;\n",
              "      border-radius: 50%;\n",
              "      cursor: pointer;\n",
              "      display: none;\n",
              "      fill: #1967D2;\n",
              "      height: 32px;\n",
              "      padding: 0 0 0 0;\n",
              "      width: 32px;\n",
              "    }\n",
              "\n",
              "    .colab-df-convert:hover {\n",
              "      background-color: #E2EBFA;\n",
              "      box-shadow: 0px 1px 2px rgba(60, 64, 67, 0.3), 0px 1px 3px 1px rgba(60, 64, 67, 0.15);\n",
              "      fill: #174EA6;\n",
              "    }\n",
              "\n",
              "    [theme=dark] .colab-df-convert {\n",
              "      background-color: #3B4455;\n",
              "      fill: #D2E3FC;\n",
              "    }\n",
              "\n",
              "    [theme=dark] .colab-df-convert:hover {\n",
              "      background-color: #434B5C;\n",
              "      box-shadow: 0px 1px 3px 1px rgba(0, 0, 0, 0.15);\n",
              "      filter: drop-shadow(0px 1px 2px rgba(0, 0, 0, 0.3));\n",
              "      fill: #FFFFFF;\n",
              "    }\n",
              "  </style>\n",
              "\n",
              "      <script>\n",
              "        const buttonEl =\n",
              "          document.querySelector('#df-e6ddbd6d-06db-4101-aa41-ff9619248501 button.colab-df-convert');\n",
              "        buttonEl.style.display =\n",
              "          google.colab.kernel.accessAllowed ? 'block' : 'none';\n",
              "\n",
              "        async function convertToInteractive(key) {\n",
              "          const element = document.querySelector('#df-e6ddbd6d-06db-4101-aa41-ff9619248501');\n",
              "          const dataTable =\n",
              "            await google.colab.kernel.invokeFunction('convertToInteractive',\n",
              "                                                     [key], {});\n",
              "          if (!dataTable) return;\n",
              "\n",
              "          const docLinkHtml = 'Like what you see? Visit the ' +\n",
              "            '<a target=\"_blank\" href=https://colab.research.google.com/notebooks/data_table.ipynb>data table notebook</a>'\n",
              "            + ' to learn more about interactive tables.';\n",
              "          element.innerHTML = '';\n",
              "          dataTable['output_type'] = 'display_data';\n",
              "          await google.colab.output.renderOutput(dataTable, element);\n",
              "          const docLink = document.createElement('div');\n",
              "          docLink.innerHTML = docLinkHtml;\n",
              "          element.appendChild(docLink);\n",
              "        }\n",
              "      </script>\n",
              "    </div>\n",
              "  </div>\n",
              "  "
            ]
          },
          "metadata": {},
          "execution_count": 7
        }
      ]
    },
    {
      "cell_type": "code",
      "source": [
        "df = df.drop(['CO'], axis=1)\n",
        "df"
      ],
      "metadata": {
        "colab": {
          "base_uri": "https://localhost:8080/",
          "height": 488
        },
        "id": "dhHQDdYkkBZI",
        "outputId": "10bc2885-8124-4fd1-8543-e714e22fc77a"
      },
      "execution_count": 8,
      "outputs": [
        {
          "output_type": "execute_result",
          "data": {
            "text/plain": [
              "       ambient_temperature  ambient_pressure  ambient_humidity  \\\n",
              "0                   4.5878            1018.7            83.675   \n",
              "1                   4.2932            1018.3            84.235   \n",
              "2                   3.9045            1018.4            84.858   \n",
              "3                   3.7436            1018.3            85.434   \n",
              "4                   3.7516            1017.8            85.182   \n",
              "...                    ...               ...               ...   \n",
              "36728               3.6268            1028.5            93.200   \n",
              "36729               4.1674            1028.6            94.036   \n",
              "36730               5.4820            1028.5            95.219   \n",
              "36731               5.8837            1028.7            94.200   \n",
              "36732               6.0392            1028.8            94.547   \n",
              "\n",
              "       air_filter_difference_pressure  gas_turbine_exhaust_pressure  \\\n",
              "0                              3.5758                        23.979   \n",
              "1                              3.5709                        23.951   \n",
              "2                              3.5828                        23.990   \n",
              "3                              3.5808                        23.911   \n",
              "4                              3.5781                        23.917   \n",
              "...                               ...                           ...   \n",
              "36728                          3.1661                        19.087   \n",
              "36729                          3.1923                        19.016   \n",
              "36730                          3.3128                        18.857   \n",
              "36731                          3.9831                        23.563   \n",
              "36732                          3.8752                        22.524   \n",
              "\n",
              "       turbine_inlet_temperature  turbine_after_temperature  \\\n",
              "0                         1086.2                     549.83   \n",
              "1                         1086.1                     550.05   \n",
              "2                         1086.5                     550.19   \n",
              "3                         1086.5                     550.17   \n",
              "4                         1085.9                     550.00   \n",
              "...                          ...                        ...   \n",
              "36728                     1037.0                     541.59   \n",
              "36729                     1037.6                     542.28   \n",
              "36730                     1038.0                     543.48   \n",
              "36731                     1076.9                     550.11   \n",
              "36732                     1067.9                     548.23   \n",
              "\n",
              "       compressor_discharge_pressure  turbine_energy_yield      NOx  \n",
              "0                             134.67                11.898   81.952  \n",
              "1                             134.67                11.892   82.377  \n",
              "2                             135.10                12.042   83.776  \n",
              "3                             135.03                11.990   82.505  \n",
              "4                             134.67                11.910   82.028  \n",
              "...                              ...                   ...      ...  \n",
              "36728                         109.08                10.411   89.172  \n",
              "36729                         108.79                10.344   88.849  \n",
              "36730                         107.81                10.462   96.147  \n",
              "36731                         131.41                11.771   64.738  \n",
              "36732                         125.41                11.462  109.240  \n",
              "\n",
              "[36733 rows x 10 columns]"
            ],
            "text/html": [
              "\n",
              "  <div id=\"df-6ce64acf-e4bf-4bc1-b786-7949efbe055b\">\n",
              "    <div class=\"colab-df-container\">\n",
              "      <div>\n",
              "<style scoped>\n",
              "    .dataframe tbody tr th:only-of-type {\n",
              "        vertical-align: middle;\n",
              "    }\n",
              "\n",
              "    .dataframe tbody tr th {\n",
              "        vertical-align: top;\n",
              "    }\n",
              "\n",
              "    .dataframe thead th {\n",
              "        text-align: right;\n",
              "    }\n",
              "</style>\n",
              "<table border=\"1\" class=\"dataframe\">\n",
              "  <thead>\n",
              "    <tr style=\"text-align: right;\">\n",
              "      <th></th>\n",
              "      <th>ambient_temperature</th>\n",
              "      <th>ambient_pressure</th>\n",
              "      <th>ambient_humidity</th>\n",
              "      <th>air_filter_difference_pressure</th>\n",
              "      <th>gas_turbine_exhaust_pressure</th>\n",
              "      <th>turbine_inlet_temperature</th>\n",
              "      <th>turbine_after_temperature</th>\n",
              "      <th>compressor_discharge_pressure</th>\n",
              "      <th>turbine_energy_yield</th>\n",
              "      <th>NOx</th>\n",
              "    </tr>\n",
              "  </thead>\n",
              "  <tbody>\n",
              "    <tr>\n",
              "      <th>0</th>\n",
              "      <td>4.5878</td>\n",
              "      <td>1018.7</td>\n",
              "      <td>83.675</td>\n",
              "      <td>3.5758</td>\n",
              "      <td>23.979</td>\n",
              "      <td>1086.2</td>\n",
              "      <td>549.83</td>\n",
              "      <td>134.67</td>\n",
              "      <td>11.898</td>\n",
              "      <td>81.952</td>\n",
              "    </tr>\n",
              "    <tr>\n",
              "      <th>1</th>\n",
              "      <td>4.2932</td>\n",
              "      <td>1018.3</td>\n",
              "      <td>84.235</td>\n",
              "      <td>3.5709</td>\n",
              "      <td>23.951</td>\n",
              "      <td>1086.1</td>\n",
              "      <td>550.05</td>\n",
              "      <td>134.67</td>\n",
              "      <td>11.892</td>\n",
              "      <td>82.377</td>\n",
              "    </tr>\n",
              "    <tr>\n",
              "      <th>2</th>\n",
              "      <td>3.9045</td>\n",
              "      <td>1018.4</td>\n",
              "      <td>84.858</td>\n",
              "      <td>3.5828</td>\n",
              "      <td>23.990</td>\n",
              "      <td>1086.5</td>\n",
              "      <td>550.19</td>\n",
              "      <td>135.10</td>\n",
              "      <td>12.042</td>\n",
              "      <td>83.776</td>\n",
              "    </tr>\n",
              "    <tr>\n",
              "      <th>3</th>\n",
              "      <td>3.7436</td>\n",
              "      <td>1018.3</td>\n",
              "      <td>85.434</td>\n",
              "      <td>3.5808</td>\n",
              "      <td>23.911</td>\n",
              "      <td>1086.5</td>\n",
              "      <td>550.17</td>\n",
              "      <td>135.03</td>\n",
              "      <td>11.990</td>\n",
              "      <td>82.505</td>\n",
              "    </tr>\n",
              "    <tr>\n",
              "      <th>4</th>\n",
              "      <td>3.7516</td>\n",
              "      <td>1017.8</td>\n",
              "      <td>85.182</td>\n",
              "      <td>3.5781</td>\n",
              "      <td>23.917</td>\n",
              "      <td>1085.9</td>\n",
              "      <td>550.00</td>\n",
              "      <td>134.67</td>\n",
              "      <td>11.910</td>\n",
              "      <td>82.028</td>\n",
              "    </tr>\n",
              "    <tr>\n",
              "      <th>...</th>\n",
              "      <td>...</td>\n",
              "      <td>...</td>\n",
              "      <td>...</td>\n",
              "      <td>...</td>\n",
              "      <td>...</td>\n",
              "      <td>...</td>\n",
              "      <td>...</td>\n",
              "      <td>...</td>\n",
              "      <td>...</td>\n",
              "      <td>...</td>\n",
              "    </tr>\n",
              "    <tr>\n",
              "      <th>36728</th>\n",
              "      <td>3.6268</td>\n",
              "      <td>1028.5</td>\n",
              "      <td>93.200</td>\n",
              "      <td>3.1661</td>\n",
              "      <td>19.087</td>\n",
              "      <td>1037.0</td>\n",
              "      <td>541.59</td>\n",
              "      <td>109.08</td>\n",
              "      <td>10.411</td>\n",
              "      <td>89.172</td>\n",
              "    </tr>\n",
              "    <tr>\n",
              "      <th>36729</th>\n",
              "      <td>4.1674</td>\n",
              "      <td>1028.6</td>\n",
              "      <td>94.036</td>\n",
              "      <td>3.1923</td>\n",
              "      <td>19.016</td>\n",
              "      <td>1037.6</td>\n",
              "      <td>542.28</td>\n",
              "      <td>108.79</td>\n",
              "      <td>10.344</td>\n",
              "      <td>88.849</td>\n",
              "    </tr>\n",
              "    <tr>\n",
              "      <th>36730</th>\n",
              "      <td>5.4820</td>\n",
              "      <td>1028.5</td>\n",
              "      <td>95.219</td>\n",
              "      <td>3.3128</td>\n",
              "      <td>18.857</td>\n",
              "      <td>1038.0</td>\n",
              "      <td>543.48</td>\n",
              "      <td>107.81</td>\n",
              "      <td>10.462</td>\n",
              "      <td>96.147</td>\n",
              "    </tr>\n",
              "    <tr>\n",
              "      <th>36731</th>\n",
              "      <td>5.8837</td>\n",
              "      <td>1028.7</td>\n",
              "      <td>94.200</td>\n",
              "      <td>3.9831</td>\n",
              "      <td>23.563</td>\n",
              "      <td>1076.9</td>\n",
              "      <td>550.11</td>\n",
              "      <td>131.41</td>\n",
              "      <td>11.771</td>\n",
              "      <td>64.738</td>\n",
              "    </tr>\n",
              "    <tr>\n",
              "      <th>36732</th>\n",
              "      <td>6.0392</td>\n",
              "      <td>1028.8</td>\n",
              "      <td>94.547</td>\n",
              "      <td>3.8752</td>\n",
              "      <td>22.524</td>\n",
              "      <td>1067.9</td>\n",
              "      <td>548.23</td>\n",
              "      <td>125.41</td>\n",
              "      <td>11.462</td>\n",
              "      <td>109.240</td>\n",
              "    </tr>\n",
              "  </tbody>\n",
              "</table>\n",
              "<p>36733 rows × 10 columns</p>\n",
              "</div>\n",
              "      <button class=\"colab-df-convert\" onclick=\"convertToInteractive('df-6ce64acf-e4bf-4bc1-b786-7949efbe055b')\"\n",
              "              title=\"Convert this dataframe to an interactive table.\"\n",
              "              style=\"display:none;\">\n",
              "        \n",
              "  <svg xmlns=\"http://www.w3.org/2000/svg\" height=\"24px\"viewBox=\"0 0 24 24\"\n",
              "       width=\"24px\">\n",
              "    <path d=\"M0 0h24v24H0V0z\" fill=\"none\"/>\n",
              "    <path d=\"M18.56 5.44l.94 2.06.94-2.06 2.06-.94-2.06-.94-.94-2.06-.94 2.06-2.06.94zm-11 1L8.5 8.5l.94-2.06 2.06-.94-2.06-.94L8.5 2.5l-.94 2.06-2.06.94zm10 10l.94 2.06.94-2.06 2.06-.94-2.06-.94-.94-2.06-.94 2.06-2.06.94z\"/><path d=\"M17.41 7.96l-1.37-1.37c-.4-.4-.92-.59-1.43-.59-.52 0-1.04.2-1.43.59L10.3 9.45l-7.72 7.72c-.78.78-.78 2.05 0 2.83L4 21.41c.39.39.9.59 1.41.59.51 0 1.02-.2 1.41-.59l7.78-7.78 2.81-2.81c.8-.78.8-2.07 0-2.86zM5.41 20L4 18.59l7.72-7.72 1.47 1.35L5.41 20z\"/>\n",
              "  </svg>\n",
              "      </button>\n",
              "      \n",
              "  <style>\n",
              "    .colab-df-container {\n",
              "      display:flex;\n",
              "      flex-wrap:wrap;\n",
              "      gap: 12px;\n",
              "    }\n",
              "\n",
              "    .colab-df-convert {\n",
              "      background-color: #E8F0FE;\n",
              "      border: none;\n",
              "      border-radius: 50%;\n",
              "      cursor: pointer;\n",
              "      display: none;\n",
              "      fill: #1967D2;\n",
              "      height: 32px;\n",
              "      padding: 0 0 0 0;\n",
              "      width: 32px;\n",
              "    }\n",
              "\n",
              "    .colab-df-convert:hover {\n",
              "      background-color: #E2EBFA;\n",
              "      box-shadow: 0px 1px 2px rgba(60, 64, 67, 0.3), 0px 1px 3px 1px rgba(60, 64, 67, 0.15);\n",
              "      fill: #174EA6;\n",
              "    }\n",
              "\n",
              "    [theme=dark] .colab-df-convert {\n",
              "      background-color: #3B4455;\n",
              "      fill: #D2E3FC;\n",
              "    }\n",
              "\n",
              "    [theme=dark] .colab-df-convert:hover {\n",
              "      background-color: #434B5C;\n",
              "      box-shadow: 0px 1px 3px 1px rgba(0, 0, 0, 0.15);\n",
              "      filter: drop-shadow(0px 1px 2px rgba(0, 0, 0, 0.3));\n",
              "      fill: #FFFFFF;\n",
              "    }\n",
              "  </style>\n",
              "\n",
              "      <script>\n",
              "        const buttonEl =\n",
              "          document.querySelector('#df-6ce64acf-e4bf-4bc1-b786-7949efbe055b button.colab-df-convert');\n",
              "        buttonEl.style.display =\n",
              "          google.colab.kernel.accessAllowed ? 'block' : 'none';\n",
              "\n",
              "        async function convertToInteractive(key) {\n",
              "          const element = document.querySelector('#df-6ce64acf-e4bf-4bc1-b786-7949efbe055b');\n",
              "          const dataTable =\n",
              "            await google.colab.kernel.invokeFunction('convertToInteractive',\n",
              "                                                     [key], {});\n",
              "          if (!dataTable) return;\n",
              "\n",
              "          const docLinkHtml = 'Like what you see? Visit the ' +\n",
              "            '<a target=\"_blank\" href=https://colab.research.google.com/notebooks/data_table.ipynb>data table notebook</a>'\n",
              "            + ' to learn more about interactive tables.';\n",
              "          element.innerHTML = '';\n",
              "          dataTable['output_type'] = 'display_data';\n",
              "          await google.colab.output.renderOutput(dataTable, element);\n",
              "          const docLink = document.createElement('div');\n",
              "          docLink.innerHTML = docLinkHtml;\n",
              "          element.appendChild(docLink);\n",
              "        }\n",
              "      </script>\n",
              "    </div>\n",
              "  </div>\n",
              "  "
            ]
          },
          "metadata": {},
          "execution_count": 8
        }
      ]
    },
    {
      "cell_type": "code",
      "source": [
        "columns = df.columns\n",
        "statistics = df.describe(include ='all')\n",
        "statistics\n"
      ],
      "metadata": {
        "colab": {
          "base_uri": "https://localhost:8080/",
          "height": 364
        },
        "id": "IiOHfb90kagL",
        "outputId": "4c0f2ecc-ab69-48bd-c543-96bf286c7ce2"
      },
      "execution_count": 9,
      "outputs": [
        {
          "output_type": "execute_result",
          "data": {
            "text/plain": [
              "       ambient_temperature  ambient_pressure  ambient_humidity  \\\n",
              "count         36733.000000      36733.000000      36733.000000   \n",
              "mean             17.712726       1013.070165         77.867015   \n",
              "std               7.447451          6.463346         14.461355   \n",
              "min              -6.234800        985.850000         24.085000   \n",
              "25%              11.781000       1008.800000         68.188000   \n",
              "50%              17.801000       1012.600000         80.470000   \n",
              "75%              23.665000       1017.000000         89.376000   \n",
              "max              37.103000       1036.600000        100.200000   \n",
              "\n",
              "       air_filter_difference_pressure  gas_turbine_exhaust_pressure  \\\n",
              "count                    36733.000000                  36733.000000   \n",
              "mean                         3.925518                     25.563801   \n",
              "std                          0.773936                      4.195957   \n",
              "min                          2.087400                     17.698000   \n",
              "25%                          3.355600                     23.129000   \n",
              "50%                          3.937700                     25.104000   \n",
              "75%                          4.376900                     29.061000   \n",
              "max                          7.610600                     40.716000   \n",
              "\n",
              "       turbine_inlet_temperature  turbine_after_temperature  \\\n",
              "count               36733.000000               36733.000000   \n",
              "mean                 1081.428084                 546.158517   \n",
              "std                    17.536373                   6.842360   \n",
              "min                  1000.800000                 511.040000   \n",
              "25%                  1071.800000                 544.720000   \n",
              "50%                  1085.900000                 549.880000   \n",
              "75%                  1097.000000                 550.040000   \n",
              "max                  1100.900000                 550.610000   \n",
              "\n",
              "       compressor_discharge_pressure  turbine_energy_yield           NOx  \n",
              "count                   36733.000000          36733.000000  36733.000000  \n",
              "mean                      133.506404             12.060525     65.293067  \n",
              "std                        15.618634              1.088795     11.678357  \n",
              "min                       100.020000              9.851800     25.905000  \n",
              "25%                       124.450000             11.435000     57.162000  \n",
              "50%                       133.730000             11.965000     63.849000  \n",
              "75%                       144.080000             12.855000     71.548000  \n",
              "max                       179.500000             15.159000    119.910000  "
            ],
            "text/html": [
              "\n",
              "  <div id=\"df-17fc9450-3981-4a99-8cb7-3e45fd9cb8bc\">\n",
              "    <div class=\"colab-df-container\">\n",
              "      <div>\n",
              "<style scoped>\n",
              "    .dataframe tbody tr th:only-of-type {\n",
              "        vertical-align: middle;\n",
              "    }\n",
              "\n",
              "    .dataframe tbody tr th {\n",
              "        vertical-align: top;\n",
              "    }\n",
              "\n",
              "    .dataframe thead th {\n",
              "        text-align: right;\n",
              "    }\n",
              "</style>\n",
              "<table border=\"1\" class=\"dataframe\">\n",
              "  <thead>\n",
              "    <tr style=\"text-align: right;\">\n",
              "      <th></th>\n",
              "      <th>ambient_temperature</th>\n",
              "      <th>ambient_pressure</th>\n",
              "      <th>ambient_humidity</th>\n",
              "      <th>air_filter_difference_pressure</th>\n",
              "      <th>gas_turbine_exhaust_pressure</th>\n",
              "      <th>turbine_inlet_temperature</th>\n",
              "      <th>turbine_after_temperature</th>\n",
              "      <th>compressor_discharge_pressure</th>\n",
              "      <th>turbine_energy_yield</th>\n",
              "      <th>NOx</th>\n",
              "    </tr>\n",
              "  </thead>\n",
              "  <tbody>\n",
              "    <tr>\n",
              "      <th>count</th>\n",
              "      <td>36733.000000</td>\n",
              "      <td>36733.000000</td>\n",
              "      <td>36733.000000</td>\n",
              "      <td>36733.000000</td>\n",
              "      <td>36733.000000</td>\n",
              "      <td>36733.000000</td>\n",
              "      <td>36733.000000</td>\n",
              "      <td>36733.000000</td>\n",
              "      <td>36733.000000</td>\n",
              "      <td>36733.000000</td>\n",
              "    </tr>\n",
              "    <tr>\n",
              "      <th>mean</th>\n",
              "      <td>17.712726</td>\n",
              "      <td>1013.070165</td>\n",
              "      <td>77.867015</td>\n",
              "      <td>3.925518</td>\n",
              "      <td>25.563801</td>\n",
              "      <td>1081.428084</td>\n",
              "      <td>546.158517</td>\n",
              "      <td>133.506404</td>\n",
              "      <td>12.060525</td>\n",
              "      <td>65.293067</td>\n",
              "    </tr>\n",
              "    <tr>\n",
              "      <th>std</th>\n",
              "      <td>7.447451</td>\n",
              "      <td>6.463346</td>\n",
              "      <td>14.461355</td>\n",
              "      <td>0.773936</td>\n",
              "      <td>4.195957</td>\n",
              "      <td>17.536373</td>\n",
              "      <td>6.842360</td>\n",
              "      <td>15.618634</td>\n",
              "      <td>1.088795</td>\n",
              "      <td>11.678357</td>\n",
              "    </tr>\n",
              "    <tr>\n",
              "      <th>min</th>\n",
              "      <td>-6.234800</td>\n",
              "      <td>985.850000</td>\n",
              "      <td>24.085000</td>\n",
              "      <td>2.087400</td>\n",
              "      <td>17.698000</td>\n",
              "      <td>1000.800000</td>\n",
              "      <td>511.040000</td>\n",
              "      <td>100.020000</td>\n",
              "      <td>9.851800</td>\n",
              "      <td>25.905000</td>\n",
              "    </tr>\n",
              "    <tr>\n",
              "      <th>25%</th>\n",
              "      <td>11.781000</td>\n",
              "      <td>1008.800000</td>\n",
              "      <td>68.188000</td>\n",
              "      <td>3.355600</td>\n",
              "      <td>23.129000</td>\n",
              "      <td>1071.800000</td>\n",
              "      <td>544.720000</td>\n",
              "      <td>124.450000</td>\n",
              "      <td>11.435000</td>\n",
              "      <td>57.162000</td>\n",
              "    </tr>\n",
              "    <tr>\n",
              "      <th>50%</th>\n",
              "      <td>17.801000</td>\n",
              "      <td>1012.600000</td>\n",
              "      <td>80.470000</td>\n",
              "      <td>3.937700</td>\n",
              "      <td>25.104000</td>\n",
              "      <td>1085.900000</td>\n",
              "      <td>549.880000</td>\n",
              "      <td>133.730000</td>\n",
              "      <td>11.965000</td>\n",
              "      <td>63.849000</td>\n",
              "    </tr>\n",
              "    <tr>\n",
              "      <th>75%</th>\n",
              "      <td>23.665000</td>\n",
              "      <td>1017.000000</td>\n",
              "      <td>89.376000</td>\n",
              "      <td>4.376900</td>\n",
              "      <td>29.061000</td>\n",
              "      <td>1097.000000</td>\n",
              "      <td>550.040000</td>\n",
              "      <td>144.080000</td>\n",
              "      <td>12.855000</td>\n",
              "      <td>71.548000</td>\n",
              "    </tr>\n",
              "    <tr>\n",
              "      <th>max</th>\n",
              "      <td>37.103000</td>\n",
              "      <td>1036.600000</td>\n",
              "      <td>100.200000</td>\n",
              "      <td>7.610600</td>\n",
              "      <td>40.716000</td>\n",
              "      <td>1100.900000</td>\n",
              "      <td>550.610000</td>\n",
              "      <td>179.500000</td>\n",
              "      <td>15.159000</td>\n",
              "      <td>119.910000</td>\n",
              "    </tr>\n",
              "  </tbody>\n",
              "</table>\n",
              "</div>\n",
              "      <button class=\"colab-df-convert\" onclick=\"convertToInteractive('df-17fc9450-3981-4a99-8cb7-3e45fd9cb8bc')\"\n",
              "              title=\"Convert this dataframe to an interactive table.\"\n",
              "              style=\"display:none;\">\n",
              "        \n",
              "  <svg xmlns=\"http://www.w3.org/2000/svg\" height=\"24px\"viewBox=\"0 0 24 24\"\n",
              "       width=\"24px\">\n",
              "    <path d=\"M0 0h24v24H0V0z\" fill=\"none\"/>\n",
              "    <path d=\"M18.56 5.44l.94 2.06.94-2.06 2.06-.94-2.06-.94-.94-2.06-.94 2.06-2.06.94zm-11 1L8.5 8.5l.94-2.06 2.06-.94-2.06-.94L8.5 2.5l-.94 2.06-2.06.94zm10 10l.94 2.06.94-2.06 2.06-.94-2.06-.94-.94-2.06-.94 2.06-2.06.94z\"/><path d=\"M17.41 7.96l-1.37-1.37c-.4-.4-.92-.59-1.43-.59-.52 0-1.04.2-1.43.59L10.3 9.45l-7.72 7.72c-.78.78-.78 2.05 0 2.83L4 21.41c.39.39.9.59 1.41.59.51 0 1.02-.2 1.41-.59l7.78-7.78 2.81-2.81c.8-.78.8-2.07 0-2.86zM5.41 20L4 18.59l7.72-7.72 1.47 1.35L5.41 20z\"/>\n",
              "  </svg>\n",
              "      </button>\n",
              "      \n",
              "  <style>\n",
              "    .colab-df-container {\n",
              "      display:flex;\n",
              "      flex-wrap:wrap;\n",
              "      gap: 12px;\n",
              "    }\n",
              "\n",
              "    .colab-df-convert {\n",
              "      background-color: #E8F0FE;\n",
              "      border: none;\n",
              "      border-radius: 50%;\n",
              "      cursor: pointer;\n",
              "      display: none;\n",
              "      fill: #1967D2;\n",
              "      height: 32px;\n",
              "      padding: 0 0 0 0;\n",
              "      width: 32px;\n",
              "    }\n",
              "\n",
              "    .colab-df-convert:hover {\n",
              "      background-color: #E2EBFA;\n",
              "      box-shadow: 0px 1px 2px rgba(60, 64, 67, 0.3), 0px 1px 3px 1px rgba(60, 64, 67, 0.15);\n",
              "      fill: #174EA6;\n",
              "    }\n",
              "\n",
              "    [theme=dark] .colab-df-convert {\n",
              "      background-color: #3B4455;\n",
              "      fill: #D2E3FC;\n",
              "    }\n",
              "\n",
              "    [theme=dark] .colab-df-convert:hover {\n",
              "      background-color: #434B5C;\n",
              "      box-shadow: 0px 1px 3px 1px rgba(0, 0, 0, 0.15);\n",
              "      filter: drop-shadow(0px 1px 2px rgba(0, 0, 0, 0.3));\n",
              "      fill: #FFFFFF;\n",
              "    }\n",
              "  </style>\n",
              "\n",
              "      <script>\n",
              "        const buttonEl =\n",
              "          document.querySelector('#df-17fc9450-3981-4a99-8cb7-3e45fd9cb8bc button.colab-df-convert');\n",
              "        buttonEl.style.display =\n",
              "          google.colab.kernel.accessAllowed ? 'block' : 'none';\n",
              "\n",
              "        async function convertToInteractive(key) {\n",
              "          const element = document.querySelector('#df-17fc9450-3981-4a99-8cb7-3e45fd9cb8bc');\n",
              "          const dataTable =\n",
              "            await google.colab.kernel.invokeFunction('convertToInteractive',\n",
              "                                                     [key], {});\n",
              "          if (!dataTable) return;\n",
              "\n",
              "          const docLinkHtml = 'Like what you see? Visit the ' +\n",
              "            '<a target=\"_blank\" href=https://colab.research.google.com/notebooks/data_table.ipynb>data table notebook</a>'\n",
              "            + ' to learn more about interactive tables.';\n",
              "          element.innerHTML = '';\n",
              "          dataTable['output_type'] = 'display_data';\n",
              "          await google.colab.output.renderOutput(dataTable, element);\n",
              "          const docLink = document.createElement('div');\n",
              "          docLink.innerHTML = docLinkHtml;\n",
              "          element.appendChild(docLink);\n",
              "        }\n",
              "      </script>\n",
              "    </div>\n",
              "  </div>\n",
              "  "
            ]
          },
          "metadata": {},
          "execution_count": 9
        }
      ]
    },
    {
      "cell_type": "markdown",
      "source": [
        "# <h2><font color=\"#0A66C2\"> **Fase 3: correlación entre la variable objetivo y las variables de entrada**"
      ],
      "metadata": {
        "id": "nD_TTVchlP53"
      }
    },
    {
      "cell_type": "code",
      "source": [
        "fig,ax =plt.subplots(figsize =(12,12))\n",
        "sns.heatmap (df.corr()[['NOx']].sort_values ('NOx').tail(11), vmax=1, vmin=-1, cmap='YlGnBu', annot=True, ax=ax)\n",
        "ax.invert_yaxis()"
      ],
      "metadata": {
        "colab": {
          "base_uri": "https://localhost:8080/",
          "height": 704
        },
        "id": "C8GzDtIfl-tV",
        "outputId": "c0c9f933-15a0-442a-f0c6-54d5d23983dc"
      },
      "execution_count": 10,
      "outputs": [
        {
          "output_type": "display_data",
          "data": {
            "text/plain": [
              "<Figure size 864x864 with 2 Axes>"
            ],
            "image/png": "[encoded data removed]"
          },
          "metadata": {
            "needs_background": "light"
          }
        }
      ]
    },
    {
      "cell_type": "markdown",
      "source": [
        "# <h2><font color=\"#0A66C2\"> **Fase 4: histograma**"
      ],
      "metadata": {
        "id": "PnGfAGEHoVdz"
      }
    },
    {
      "cell_type": "code",
      "source": [
        "fig =df.hist(figsize=(50,30))\n",
        "[x.title.set_size(32) for x in fig.ravel()]"
      ],
      "metadata": {
        "colab": {
          "base_uri": "https://localhost:8080/",
          "height": 596
        },
        "id": "C5bXRtQJoZrU",
        "outputId": "ee6dffb9-c3de-40fa-8911-dfc954b84e9c"
      },
      "execution_count": 11,
      "outputs": [
        {
          "output_type": "execute_result",
          "data": {
            "text/plain": [
              "[None, None, None, None, None, None, None, None, None, None, None, None]"
            ]
          },
          "metadata": {},
          "execution_count": 11
        },
        {
          "output_type": "display_data",
          "data": {
            "text/plain": [
              "<Figure size 3600x2160 with 12 Axes>"
            ],
            "image/png": "[encoded data removed]"
          },
          "metadata": {
            "needs_background": "light"
          }
        }
      ]
    },
    {
      "cell_type": "markdown",
      "source": [
        "# <h2><font color=\"#0A66C2\"> **Fase 5: estandarización de las variables**"
      ],
      "metadata": {
        "id": "OMEKHdulpkJ6"
      }
    },
    {
      "cell_type": "markdown",
      "source": [
        "### <font color=\"#333F49\">Usaremos StandardScaler de Sklearn <font>"
      ],
      "metadata": {
        "id": "OlGWcKcppvaO"
      }
    },
    {
      "cell_type": "markdown",
      "source": [
        "#### <font color=\"#333F49\">**definir Standard Scaler** <font>"
      ],
      "metadata": {
        "id": "zOJNwS2nqsdu"
      }
    },
    {
      "cell_type": "code",
      "source": [
        "scaler = StandardScaler()"
      ],
      "metadata": {
        "id": "qtu1mOaSqOdm"
      },
      "execution_count": 12,
      "outputs": []
    },
    {
      "cell_type": "markdown",
      "source": [
        "#### <font color=\"#333F49\">**transformación del dataset** <font>"
      ],
      "metadata": {
        "id": "SAZLc_gWqeM-"
      }
    },
    {
      "cell_type": "code",
      "source": [
        "scaled = scaler.fit_transform(df)"
      ],
      "metadata": {
        "id": "p3gEYmO_rGq1"
      },
      "execution_count": 13,
      "outputs": []
    },
    {
      "cell_type": "markdown",
      "source": [
        "#### <font color=\"#333F49\">**convertir numpay array a pandas dataframe** <font>"
      ],
      "metadata": {
        "id": "ioYWoM7Sr1_n"
      }
    },
    {
      "cell_type": "code",
      "source": [
        "df_scaled = pd.DataFrame(scaled, columns = columns)\n",
        "df_scaled"
      ],
      "metadata": {
        "colab": {
          "base_uri": "https://localhost:8080/",
          "height": 488
        },
        "id": "Xuf1BU7KsBev",
        "outputId": "b45bcb54-ec4f-470a-9326-8a16cb908eea"
      },
      "execution_count": 14,
      "outputs": [
        {
          "output_type": "execute_result",
          "data": {
            "text/plain": [
              "       ambient_temperature  ambient_pressure  ambient_humidity  \\\n",
              "0                -1.762362          0.871052          0.401627   \n",
              "1                -1.801920          0.809164          0.440351   \n",
              "2                -1.854113          0.824636          0.483432   \n",
              "3                -1.875718          0.809164          0.523263   \n",
              "4                -1.874644          0.731804          0.505837   \n",
              "...                    ...               ...               ...   \n",
              "36728            -1.891401          2.387315          1.060287   \n",
              "36729            -1.818812          2.402787          1.118097   \n",
              "36730            -1.642292          2.387315          1.199903   \n",
              "36731            -1.588354          2.418260          1.129438   \n",
              "36732            -1.567474          2.433732          1.153434   \n",
              "\n",
              "       air_filter_difference_pressure  gas_turbine_exhaust_pressure  \\\n",
              "0                           -0.451875                     -0.377702   \n",
              "1                           -0.458207                     -0.384376   \n",
              "2                           -0.442831                     -0.375081   \n",
              "3                           -0.445415                     -0.393909   \n",
              "4                           -0.448904                     -0.392479   \n",
              "...                               ...                           ...   \n",
              "36728                       -0.981255                     -1.543602   \n",
              "36729                       -0.947401                     -1.560524   \n",
              "36730                       -0.791702                     -1.598418   \n",
              "36731                        0.074403                     -0.476847   \n",
              "36732                       -0.065016                     -0.724469   \n",
              "\n",
              "       turbine_inlet_temperature  turbine_after_temperature  \\\n",
              "0                       0.272119                   0.536589   \n",
              "1                       0.266417                   0.568742   \n",
              "2                       0.289227                   0.589203   \n",
              "3                       0.289227                   0.586280   \n",
              "4                       0.255012                   0.561434   \n",
              "...                          ...                        ...   \n",
              "36728                  -2.533516                  -0.667691   \n",
              "36729                  -2.499301                  -0.566847   \n",
              "36730                  -2.476491                  -0.391466   \n",
              "36731                  -0.258214                   0.577511   \n",
              "36732                  -0.771440                   0.302748   \n",
              "\n",
              "       compressor_discharge_pressure  turbine_energy_yield       NOx  \n",
              "0                           0.074502             -0.149273  1.426499  \n",
              "1                           0.074502             -0.154783  1.462891  \n",
              "2                           0.102033             -0.017015  1.582687  \n",
              "3                           0.097551             -0.064774  1.473852  \n",
              "4                           0.074502             -0.138251  1.433006  \n",
              "...                              ...                   ...       ...  \n",
              "36728                      -1.563948             -1.515021  2.044745  \n",
              "36729                      -1.582516             -1.576558  2.017086  \n",
              "36730                      -1.645262             -1.468179  2.642011  \n",
              "36731                      -0.134226             -0.265917 -0.047530  \n",
              "36732                      -0.518388             -0.549721  3.763160  \n",
              "\n",
              "[36733 rows x 10 columns]"
            ],
            "text/html": [
              "\n",
              "  <div id=\"df-81c76e2f-9f3c-4b8d-949a-d98f1728359a\">\n",
              "    <div class=\"colab-df-container\">\n",
              "      <div>\n",
              "<style scoped>\n",
              "    .dataframe tbody tr th:only-of-type {\n",
              "        vertical-align: middle;\n",
              "    }\n",
              "\n",
              "    .dataframe tbody tr th {\n",
              "        vertical-align: top;\n",
              "    }\n",
              "\n",
              "    .dataframe thead th {\n",
              "        text-align: right;\n",
              "    }\n",
              "</style>\n",
              "<table border=\"1\" class=\"dataframe\">\n",
              "  <thead>\n",
              "    <tr style=\"text-align: right;\">\n",
              "      <th></th>\n",
              "      <th>ambient_temperature</th>\n",
              "      <th>ambient_pressure</th>\n",
              "      <th>ambient_humidity</th>\n",
              "      <th>air_filter_difference_pressure</th>\n",
              "      <th>gas_turbine_exhaust_pressure</th>\n",
              "      <th>turbine_inlet_temperature</th>\n",
              "      <th>turbine_after_temperature</th>\n",
              "      <th>compressor_discharge_pressure</th>\n",
              "      <th>turbine_energy_yield</th>\n",
              "      <th>NOx</th>\n",
              "    </tr>\n",
              "  </thead>\n",
              "  <tbody>\n",
              "    <tr>\n",
              "      <th>0</th>\n",
              "      <td>-1.762362</td>\n",
              "      <td>0.871052</td>\n",
              "      <td>0.401627</td>\n",
              "      <td>-0.451875</td>\n",
              "      <td>-0.377702</td>\n",
              "      <td>0.272119</td>\n",
              "      <td>0.536589</td>\n",
              "      <td>0.074502</td>\n",
              "      <td>-0.149273</td>\n",
              "      <td>1.426499</td>\n",
              "    </tr>\n",
              "    <tr>\n",
              "      <th>1</th>\n",
              "      <td>-1.801920</td>\n",
              "      <td>0.809164</td>\n",
              "      <td>0.440351</td>\n",
              "      <td>-0.458207</td>\n",
              "      <td>-0.384376</td>\n",
              "      <td>0.266417</td>\n",
              "      <td>0.568742</td>\n",
              "      <td>0.074502</td>\n",
              "      <td>-0.154783</td>\n",
              "      <td>1.462891</td>\n",
              "    </tr>\n",
              "    <tr>\n",
              "      <th>2</th>\n",
              "      <td>-1.854113</td>\n",
              "      <td>0.824636</td>\n",
              "      <td>0.483432</td>\n",
              "      <td>-0.442831</td>\n",
              "      <td>-0.375081</td>\n",
              "      <td>0.289227</td>\n",
              "      <td>0.589203</td>\n",
              "      <td>0.102033</td>\n",
              "      <td>-0.017015</td>\n",
              "      <td>1.582687</td>\n",
              "    </tr>\n",
              "    <tr>\n",
              "      <th>3</th>\n",
              "      <td>-1.875718</td>\n",
              "      <td>0.809164</td>\n",
              "      <td>0.523263</td>\n",
              "      <td>-0.445415</td>\n",
              "      <td>-0.393909</td>\n",
              "      <td>0.289227</td>\n",
              "      <td>0.586280</td>\n",
              "      <td>0.097551</td>\n",
              "      <td>-0.064774</td>\n",
              "      <td>1.473852</td>\n",
              "    </tr>\n",
              "    <tr>\n",
              "      <th>4</th>\n",
              "      <td>-1.874644</td>\n",
              "      <td>0.731804</td>\n",
              "      <td>0.505837</td>\n",
              "      <td>-0.448904</td>\n",
              "      <td>-0.392479</td>\n",
              "      <td>0.255012</td>\n",
              "      <td>0.561434</td>\n",
              "      <td>0.074502</td>\n",
              "      <td>-0.138251</td>\n",
              "      <td>1.433006</td>\n",
              "    </tr>\n",
              "    <tr>\n",
              "      <th>...</th>\n",
              "      <td>...</td>\n",
              "      <td>...</td>\n",
              "      <td>...</td>\n",
              "      <td>...</td>\n",
              "      <td>...</td>\n",
              "      <td>...</td>\n",
              "      <td>...</td>\n",
              "      <td>...</td>\n",
              "      <td>...</td>\n",
              "      <td>...</td>\n",
              "    </tr>\n",
              "    <tr>\n",
              "      <th>36728</th>\n",
              "      <td>-1.891401</td>\n",
              "      <td>2.387315</td>\n",
              "      <td>1.060287</td>\n",
              "      <td>-0.981255</td>\n",
              "      <td>-1.543602</td>\n",
              "      <td>-2.533516</td>\n",
              "      <td>-0.667691</td>\n",
              "      <td>-1.563948</td>\n",
              "      <td>-1.515021</td>\n",
              "      <td>2.044745</td>\n",
              "    </tr>\n",
              "    <tr>\n",
              "      <th>36729</th>\n",
              "      <td>-1.818812</td>\n",
              "      <td>2.402787</td>\n",
              "      <td>1.118097</td>\n",
              "      <td>-0.947401</td>\n",
              "      <td>-1.560524</td>\n",
              "      <td>-2.499301</td>\n",
              "      <td>-0.566847</td>\n",
              "      <td>-1.582516</td>\n",
              "      <td>-1.576558</td>\n",
              "      <td>2.017086</td>\n",
              "    </tr>\n",
              "    <tr>\n",
              "      <th>36730</th>\n",
              "      <td>-1.642292</td>\n",
              "      <td>2.387315</td>\n",
              "      <td>1.199903</td>\n",
              "      <td>-0.791702</td>\n",
              "      <td>-1.598418</td>\n",
              "      <td>-2.476491</td>\n",
              "      <td>-0.391466</td>\n",
              "      <td>-1.645262</td>\n",
              "      <td>-1.468179</td>\n",
              "      <td>2.642011</td>\n",
              "    </tr>\n",
              "    <tr>\n",
              "      <th>36731</th>\n",
              "      <td>-1.588354</td>\n",
              "      <td>2.418260</td>\n",
              "      <td>1.129438</td>\n",
              "      <td>0.074403</td>\n",
              "      <td>-0.476847</td>\n",
              "      <td>-0.258214</td>\n",
              "      <td>0.577511</td>\n",
              "      <td>-0.134226</td>\n",
              "      <td>-0.265917</td>\n",
              "      <td>-0.047530</td>\n",
              "    </tr>\n",
              "    <tr>\n",
              "      <th>36732</th>\n",
              "      <td>-1.567474</td>\n",
              "      <td>2.433732</td>\n",
              "      <td>1.153434</td>\n",
              "      <td>-0.065016</td>\n",
              "      <td>-0.724469</td>\n",
              "      <td>-0.771440</td>\n",
              "      <td>0.302748</td>\n",
              "      <td>-0.518388</td>\n",
              "      <td>-0.549721</td>\n",
              "      <td>3.763160</td>\n",
              "    </tr>\n",
              "  </tbody>\n",
              "</table>\n",
              "<p>36733 rows × 10 columns</p>\n",
              "</div>\n",
              "      <button class=\"colab-df-convert\" onclick=\"convertToInteractive('df-81c76e2f-9f3c-4b8d-949a-d98f1728359a')\"\n",
              "              title=\"Convert this dataframe to an interactive table.\"\n",
              "              style=\"display:none;\">\n",
              "        \n",
              "  <svg xmlns=\"http://www.w3.org/2000/svg\" height=\"24px\"viewBox=\"0 0 24 24\"\n",
              "       width=\"24px\">\n",
              "    <path d=\"M0 0h24v24H0V0z\" fill=\"none\"/>\n",
              "    <path d=\"M18.56 5.44l.94 2.06.94-2.06 2.06-.94-2.06-.94-.94-2.06-.94 2.06-2.06.94zm-11 1L8.5 8.5l.94-2.06 2.06-.94-2.06-.94L8.5 2.5l-.94 2.06-2.06.94zm10 10l.94 2.06.94-2.06 2.06-.94-2.06-.94-.94-2.06-.94 2.06-2.06.94z\"/><path d=\"M17.41 7.96l-1.37-1.37c-.4-.4-.92-.59-1.43-.59-.52 0-1.04.2-1.43.59L10.3 9.45l-7.72 7.72c-.78.78-.78 2.05 0 2.83L4 21.41c.39.39.9.59 1.41.59.51 0 1.02-.2 1.41-.59l7.78-7.78 2.81-2.81c.8-.78.8-2.07 0-2.86zM5.41 20L4 18.59l7.72-7.72 1.47 1.35L5.41 20z\"/>\n",
              "  </svg>\n",
              "      </button>\n",
              "      \n",
              "  <style>\n",
              "    .colab-df-container {\n",
              "      display:flex;\n",
              "      flex-wrap:wrap;\n",
              "      gap: 12px;\n",
              "    }\n",
              "\n",
              "    .colab-df-convert {\n",
              "      background-color: #E8F0FE;\n",
              "      border: none;\n",
              "      border-radius: 50%;\n",
              "      cursor: pointer;\n",
              "      display: none;\n",
              "      fill: #1967D2;\n",
              "      height: 32px;\n",
              "      padding: 0 0 0 0;\n",
              "      width: 32px;\n",
              "    }\n",
              "\n",
              "    .colab-df-convert:hover {\n",
              "      background-color: #E2EBFA;\n",
              "      box-shadow: 0px 1px 2px rgba(60, 64, 67, 0.3), 0px 1px 3px 1px rgba(60, 64, 67, 0.15);\n",
              "      fill: #174EA6;\n",
              "    }\n",
              "\n",
              "    [theme=dark] .colab-df-convert {\n",
              "      background-color: #3B4455;\n",
              "      fill: #D2E3FC;\n",
              "    }\n",
              "\n",
              "    [theme=dark] .colab-df-convert:hover {\n",
              "      background-color: #434B5C;\n",
              "      box-shadow: 0px 1px 3px 1px rgba(0, 0, 0, 0.15);\n",
              "      filter: drop-shadow(0px 1px 2px rgba(0, 0, 0, 0.3));\n",
              "      fill: #FFFFFF;\n",
              "    }\n",
              "  </style>\n",
              "\n",
              "      <script>\n",
              "        const buttonEl =\n",
              "          document.querySelector('#df-81c76e2f-9f3c-4b8d-949a-d98f1728359a button.colab-df-convert');\n",
              "        buttonEl.style.display =\n",
              "          google.colab.kernel.accessAllowed ? 'block' : 'none';\n",
              "\n",
              "        async function convertToInteractive(key) {\n",
              "          const element = document.querySelector('#df-81c76e2f-9f3c-4b8d-949a-d98f1728359a');\n",
              "          const dataTable =\n",
              "            await google.colab.kernel.invokeFunction('convertToInteractive',\n",
              "                                                     [key], {});\n",
              "          if (!dataTable) return;\n",
              "\n",
              "          const docLinkHtml = 'Like what you see? Visit the ' +\n",
              "            '<a target=\"_blank\" href=https://colab.research.google.com/notebooks/data_table.ipynb>data table notebook</a>'\n",
              "            + ' to learn more about interactive tables.';\n",
              "          element.innerHTML = '';\n",
              "          dataTable['output_type'] = 'display_data';\n",
              "          await google.colab.output.renderOutput(dataTable, element);\n",
              "          const docLink = document.createElement('div');\n",
              "          docLink.innerHTML = docLinkHtml;\n",
              "          element.appendChild(docLink);\n",
              "        }\n",
              "      </script>\n",
              "    </div>\n",
              "  </div>\n",
              "  "
            ]
          },
          "metadata": {},
          "execution_count": 14
        }
      ]
    },
    {
      "cell_type": "markdown",
      "source": [
        "# <h2><font color=\"#0A66C2\"> **Fase 6: división del set de datos (escalado) en entrenamiento y test**"
      ],
      "metadata": {
        "id": "0glcMLAt4VBS"
      }
    },
    {
      "cell_type": "markdown",
      "source": [
        "### <font color=\"#333F49\">**variables de entrada** <font>"
      ],
      "metadata": {
        "id": "jBQwvYiH4mGo"
      }
    },
    {
      "cell_type": "code",
      "source": [
        "X = df_scaled.iloc[:, :-1]"
      ],
      "metadata": {
        "id": "5AYE5_5u40lN"
      },
      "execution_count": 15,
      "outputs": []
    },
    {
      "cell_type": "markdown",
      "source": [
        "### <font color=\"#333F49\">**variable objetivo** <font>"
      ],
      "metadata": {
        "id": "DnwLp-u_5Qt4"
      }
    },
    {
      "cell_type": "code",
      "source": [
        "y = df_scaled.iloc[:,-1]"
      ],
      "metadata": {
        "id": "NQvyCBU25KSY"
      },
      "execution_count": 16,
      "outputs": []
    },
    {
      "cell_type": "markdown",
      "source": [
        "### <font color=\"#333F49\">**dividir muestras de entrenamiento y test** <font>\n",
        "\n",
        "Conjunto de entranamiento (67%)\n",
        "Conjunto de test (33%)"
      ],
      "metadata": {
        "id": "RQ2ORgoL5gig"
      }
    },
    {
      "cell_type": "code",
      "source": [
        "X_train, X_test, y_train, y_test = train_test_split(X, y, \n",
        "                                                    random_state = 42,\n",
        "                                                    test_size = 0.33)"
      ],
      "metadata": {
        "id": "mi-DTz2g8ZMH"
      },
      "execution_count": 17,
      "outputs": []
    },
    {
      "cell_type": "markdown",
      "source": [
        "# <h2><font color=\"#0A66C2\"> **Fase 7: construir el modelo**"
      ],
      "metadata": {
        "id": "p046LSyv8qiw"
      }
    },
    {
      "cell_type": "markdown",
      "source": [
        "Construiremos un modelo secuencial con **tres capas**:\n",
        "- **12 neuronas**, 'tanh' como función de activación que recibe 9 entradas de la capa de entrada. \n",
        "- **8 neuronas**, 'tanh' como función de activación y regularización L2. \n",
        "- **1 neurona** para la capa de salida, y 'lineal' como función de activación."
      ],
      "metadata": {
        "id": "YIQwbKHr8-p-"
      }
    },
    {
      "cell_type": "code",
      "source": [
        "model = keras.Sequential()"
      ],
      "metadata": {
        "id": "EjihrFc_9tIw"
      },
      "execution_count": 18,
      "outputs": []
    },
    {
      "cell_type": "code",
      "source": [
        "model.add (layers.Dense(12, input_shape = (9,), activation ='tanh'))\n",
        "model.add (layers.Dense(8, activation ='tanh', kernel_regularizer='l2'))\n",
        "model.add (layers.Dense(1, activation ='linear'))\n"
      ],
      "metadata": {
        "id": "phVy-Fpe94X_"
      },
      "execution_count": 19,
      "outputs": []
    },
    {
      "cell_type": "code",
      "source": [
        "model.summary()"
      ],
      "metadata": {
        "id": "4PkrrsO6-2tX",
        "colab": {
          "base_uri": "https://localhost:8080/"
        },
        "outputId": "70e2fb10-43b4-4e11-92c6-0a5793da7c8d"
      },
      "execution_count": 20,
      "outputs": [
        {
          "output_type": "stream",
          "name": "stdout",
          "text": [
            "Model: \"sequential\"\n",
            "_________________________________________________________________\n",
            " Layer (type)                Output Shape              Param #   \n",
            "=================================================================\n",
            " dense (Dense)               (None, 12)                120       \n",
            "                                                                 \n",
            " dense_1 (Dense)             (None, 8)                 104       \n",
            "                                                                 \n",
            " dense_2 (Dense)             (None, 1)                 9         \n",
            "                                                                 \n",
            "=================================================================\n",
            "Total params: 233\n",
            "Trainable params: 233\n",
            "Non-trainable params: 0\n",
            "_________________________________________________________________\n"
          ]
        }
      ]
    },
    {
      "cell_type": "markdown",
      "source": [
        "# <h2><font color=\"#0A66C2\"> **Fase 8: entrenamiento**"
      ],
      "metadata": {
        "id": "132Mcyfb5slh"
      }
    },
    {
      "cell_type": "markdown",
      "source": [
        "Para **entrenar el modelo**:\n",
        "- Utilizamos **Adam como optimizador** y el error medio cuadrático **(mse)** como función de pérdida. \n",
        "- Establecemos un tamaño de lote de **100 y 400 épocas**. (batch_size: iteraciones de cada época).\n",
        "- Utilizaremos un **callback** de parada temprana con una paciencia de **10 epochs**."
      ],
      "metadata": {
        "id": "ssKvT8bL6B7P"
      }
    },
    {
      "cell_type": "code",
      "source": [
        "model.compile (optimizer = 'adam', loss = 'mse', metrics = ['mae', 'mse'])\n",
        "early_stop = keras.callbacks.EarlyStopping(monitor = 'val_loss', patience = 10)\n",
        "history = model.fit (X_train, y_train, validation_split=0.2,\n",
        "                     batch_size = 100, epochs = 400,\n",
        "                     callbacks =  [early_stop])"
      ],
      "metadata": {
        "colab": {
          "base_uri": "https://localhost:8080/"
        },
        "id": "S0UWnVHp5sVb",
        "outputId": "a9748d1a-9c1e-4dea-a772-f0c63835a6d7"
      },
      "execution_count": 21,
      "outputs": [
        {
          "output_type": "stream",
          "name": "stdout",
          "text": [
            "Epoch 1/400\n",
            "197/197 [==============================] - 1s 3ms/step - loss: 0.8026 - mae: 0.6439 - mse: 0.7119 - val_loss: 0.6197 - val_mae: 0.5525 - val_mse: 0.5352\n",
            "Epoch 2/400\n",
            "197/197 [==============================] - 0s 2ms/step - loss: 0.5571 - mae: 0.5007 - mse: 0.4776 - val_loss: 0.4799 - val_mae: 0.4621 - val_mse: 0.4049\n",
            "Epoch 3/400\n",
            "197/197 [==============================] - 1s 3ms/step - loss: 0.4414 - mae: 0.4299 - mse: 0.3701 - val_loss: 0.3983 - val_mae: 0.4097 - val_mse: 0.3309\n",
            "Epoch 4/400\n",
            "197/197 [==============================] - 1s 3ms/step - loss: 0.3805 - mae: 0.3961 - mse: 0.3165 - val_loss: 0.3607 - val_mae: 0.3848 - val_mse: 0.3008\n",
            "Epoch 5/400\n",
            "197/197 [==============================] - 1s 3ms/step - loss: 0.3505 - mae: 0.3800 - mse: 0.2942 - val_loss: 0.3363 - val_mae: 0.3754 - val_mse: 0.2832\n",
            "Epoch 6/400\n",
            "197/197 [==============================] - 0s 2ms/step - loss: 0.3324 - mae: 0.3716 - mse: 0.2825 - val_loss: 0.3210 - val_mae: 0.3678 - val_mse: 0.2739\n",
            "Epoch 7/400\n",
            "197/197 [==============================] - 1s 3ms/step - loss: 0.3196 - mae: 0.3657 - mse: 0.2752 - val_loss: 0.3111 - val_mae: 0.3654 - val_mse: 0.2692\n",
            "Epoch 8/400\n",
            "197/197 [==============================] - 0s 2ms/step - loss: 0.3098 - mae: 0.3615 - mse: 0.2700 - val_loss: 0.3020 - val_mae: 0.3610 - val_mse: 0.2642\n",
            "Epoch 9/400\n",
            "197/197 [==============================] - 0s 2ms/step - loss: 0.3023 - mae: 0.3583 - mse: 0.2663 - val_loss: 0.2957 - val_mae: 0.3585 - val_mse: 0.2614\n",
            "Epoch 10/400\n",
            "197/197 [==============================] - 1s 3ms/step - loss: 0.2967 - mae: 0.3565 - mse: 0.2639 - val_loss: 0.2908 - val_mae: 0.3542 - val_mse: 0.2593\n",
            "Epoch 11/400\n",
            "197/197 [==============================] - 0s 2ms/step - loss: 0.2899 - mae: 0.3529 - mse: 0.2596 - val_loss: 0.2860 - val_mae: 0.3516 - val_mse: 0.2569\n",
            "Epoch 12/400\n",
            "197/197 [==============================] - 1s 3ms/step - loss: 0.2856 - mae: 0.3511 - mse: 0.2574 - val_loss: 0.2810 - val_mae: 0.3504 - val_mse: 0.2540\n",
            "Epoch 13/400\n",
            "197/197 [==============================] - 0s 2ms/step - loss: 0.2818 - mae: 0.3489 - mse: 0.2556 - val_loss: 0.2772 - val_mae: 0.3496 - val_mse: 0.2520\n",
            "Epoch 14/400\n",
            "197/197 [==============================] - 1s 3ms/step - loss: 0.2783 - mae: 0.3481 - mse: 0.2537 - val_loss: 0.2734 - val_mae: 0.3469 - val_mse: 0.2494\n",
            "Epoch 15/400\n",
            "197/197 [==============================] - 0s 2ms/step - loss: 0.2749 - mae: 0.3461 - mse: 0.2515 - val_loss: 0.2723 - val_mae: 0.3452 - val_mse: 0.2498\n",
            "Epoch 16/400\n",
            "197/197 [==============================] - 0s 2ms/step - loss: 0.2732 - mae: 0.3453 - mse: 0.2511 - val_loss: 0.2693 - val_mae: 0.3454 - val_mse: 0.2477\n",
            "Epoch 17/400\n",
            "197/197 [==============================] - 0s 2ms/step - loss: 0.2700 - mae: 0.3442 - mse: 0.2490 - val_loss: 0.2658 - val_mae: 0.3438 - val_mse: 0.2453\n",
            "Epoch 18/400\n",
            "197/197 [==============================] - 1s 3ms/step - loss: 0.2682 - mae: 0.3433 - mse: 0.2481 - val_loss: 0.2638 - val_mae: 0.3422 - val_mse: 0.2440\n",
            "Epoch 19/400\n",
            "197/197 [==============================] - 0s 2ms/step - loss: 0.2654 - mae: 0.3413 - mse: 0.2460 - val_loss: 0.2641 - val_mae: 0.3439 - val_mse: 0.2451\n",
            "Epoch 20/400\n",
            "197/197 [==============================] - 0s 2ms/step - loss: 0.2641 - mae: 0.3419 - mse: 0.2455 - val_loss: 0.2593 - val_mae: 0.3385 - val_mse: 0.2411\n",
            "Epoch 21/400\n",
            "197/197 [==============================] - 0s 2ms/step - loss: 0.2629 - mae: 0.3406 - mse: 0.2450 - val_loss: 0.2582 - val_mae: 0.3396 - val_mse: 0.2406\n",
            "Epoch 22/400\n",
            "197/197 [==============================] - 1s 3ms/step - loss: 0.2613 - mae: 0.3401 - mse: 0.2440 - val_loss: 0.2572 - val_mae: 0.3385 - val_mse: 0.2401\n",
            "Epoch 23/400\n",
            "197/197 [==============================] - 1s 3ms/step - loss: 0.2597 - mae: 0.3392 - mse: 0.2429 - val_loss: 0.2561 - val_mae: 0.3375 - val_mse: 0.2395\n",
            "Epoch 24/400\n",
            "197/197 [==============================] - 0s 2ms/step - loss: 0.2585 - mae: 0.3389 - mse: 0.2422 - val_loss: 0.2559 - val_mae: 0.3396 - val_mse: 0.2399\n",
            "Epoch 25/400\n",
            "197/197 [==============================] - 1s 3ms/step - loss: 0.2569 - mae: 0.3378 - mse: 0.2411 - val_loss: 0.2554 - val_mae: 0.3389 - val_mse: 0.2399\n",
            "Epoch 26/400\n",
            "197/197 [==============================] - 0s 2ms/step - loss: 0.2559 - mae: 0.3376 - mse: 0.2406 - val_loss: 0.2525 - val_mae: 0.3376 - val_mse: 0.2373\n",
            "Epoch 27/400\n",
            "197/197 [==============================] - 0s 2ms/step - loss: 0.2550 - mae: 0.3370 - mse: 0.2401 - val_loss: 0.2543 - val_mae: 0.3408 - val_mse: 0.2396\n",
            "Epoch 28/400\n",
            "197/197 [==============================] - 0s 2ms/step - loss: 0.2543 - mae: 0.3370 - mse: 0.2398 - val_loss: 0.2538 - val_mae: 0.3393 - val_mse: 0.2394\n",
            "Epoch 29/400\n",
            "197/197 [==============================] - 0s 2ms/step - loss: 0.2524 - mae: 0.3358 - mse: 0.2381 - val_loss: 0.2519 - val_mae: 0.3363 - val_mse: 0.2377\n",
            "Epoch 30/400\n",
            "197/197 [==============================] - 1s 3ms/step - loss: 0.2520 - mae: 0.3357 - mse: 0.2380 - val_loss: 0.2563 - val_mae: 0.3430 - val_mse: 0.2427\n",
            "Epoch 31/400\n",
            "197/197 [==============================] - 0s 2ms/step - loss: 0.2514 - mae: 0.3351 - mse: 0.2378 - val_loss: 0.2487 - val_mae: 0.3329 - val_mse: 0.2352\n",
            "Epoch 32/400\n",
            "197/197 [==============================] - 0s 2ms/step - loss: 0.2504 - mae: 0.3350 - mse: 0.2372 - val_loss: 0.2474 - val_mae: 0.3340 - val_mse: 0.2342\n",
            "Epoch 33/400\n",
            "197/197 [==============================] - 0s 2ms/step - loss: 0.2502 - mae: 0.3351 - mse: 0.2371 - val_loss: 0.2483 - val_mae: 0.3362 - val_mse: 0.2354\n",
            "Epoch 34/400\n",
            "197/197 [==============================] - 1s 3ms/step - loss: 0.2491 - mae: 0.3350 - mse: 0.2363 - val_loss: 0.2514 - val_mae: 0.3380 - val_mse: 0.2387\n",
            "Epoch 35/400\n",
            "197/197 [==============================] - 0s 2ms/step - loss: 0.2480 - mae: 0.3340 - mse: 0.2355 - val_loss: 0.2499 - val_mae: 0.3373 - val_mse: 0.2374\n",
            "Epoch 36/400\n",
            "197/197 [==============================] - 1s 3ms/step - loss: 0.2475 - mae: 0.3335 - mse: 0.2351 - val_loss: 0.2450 - val_mae: 0.3316 - val_mse: 0.2328\n",
            "Epoch 37/400\n",
            "197/197 [==============================] - 0s 2ms/step - loss: 0.2466 - mae: 0.3333 - mse: 0.2345 - val_loss: 0.2461 - val_mae: 0.3344 - val_mse: 0.2340\n",
            "Epoch 38/400\n",
            "197/197 [==============================] - 0s 2ms/step - loss: 0.2461 - mae: 0.3332 - mse: 0.2342 - val_loss: 0.2485 - val_mae: 0.3369 - val_mse: 0.2368\n",
            "Epoch 39/400\n",
            "197/197 [==============================] - 1s 3ms/step - loss: 0.2461 - mae: 0.3335 - mse: 0.2344 - val_loss: 0.2448 - val_mae: 0.3333 - val_mse: 0.2333\n",
            "Epoch 40/400\n",
            "197/197 [==============================] - 0s 2ms/step - loss: 0.2453 - mae: 0.3327 - mse: 0.2338 - val_loss: 0.2436 - val_mae: 0.3332 - val_mse: 0.2323\n",
            "Epoch 41/400\n",
            "197/197 [==============================] - 0s 2ms/step - loss: 0.2445 - mae: 0.3327 - mse: 0.2332 - val_loss: 0.2443 - val_mae: 0.3338 - val_mse: 0.2331\n",
            "Epoch 42/400\n",
            "197/197 [==============================] - 1s 3ms/step - loss: 0.2443 - mae: 0.3324 - mse: 0.2332 - val_loss: 0.2423 - val_mae: 0.3315 - val_mse: 0.2311\n",
            "Epoch 43/400\n",
            "197/197 [==============================] - 0s 2ms/step - loss: 0.2441 - mae: 0.3324 - mse: 0.2331 - val_loss: 0.2495 - val_mae: 0.3378 - val_mse: 0.2385\n",
            "Epoch 44/400\n",
            "197/197 [==============================] - 0s 2ms/step - loss: 0.2434 - mae: 0.3317 - mse: 0.2326 - val_loss: 0.2414 - val_mae: 0.3324 - val_mse: 0.2305\n",
            "Epoch 45/400\n",
            "197/197 [==============================] - 0s 2ms/step - loss: 0.2430 - mae: 0.3321 - mse: 0.2321 - val_loss: 0.2406 - val_mae: 0.3303 - val_mse: 0.2300\n",
            "Epoch 46/400\n",
            "197/197 [==============================] - 1s 3ms/step - loss: 0.2421 - mae: 0.3315 - mse: 0.2315 - val_loss: 0.2409 - val_mae: 0.3321 - val_mse: 0.2304\n",
            "Epoch 47/400\n",
            "197/197 [==============================] - 0s 2ms/step - loss: 0.2424 - mae: 0.3320 - mse: 0.2319 - val_loss: 0.2437 - val_mae: 0.3346 - val_mse: 0.2332\n",
            "Epoch 48/400\n",
            "197/197 [==============================] - 1s 3ms/step - loss: 0.2413 - mae: 0.3312 - mse: 0.2309 - val_loss: 0.2421 - val_mae: 0.3346 - val_mse: 0.2319\n",
            "Epoch 49/400\n",
            "197/197 [==============================] - 0s 2ms/step - loss: 0.2411 - mae: 0.3302 - mse: 0.2308 - val_loss: 0.2392 - val_mae: 0.3296 - val_mse: 0.2290\n",
            "Epoch 50/400\n",
            "197/197 [==============================] - 0s 2ms/step - loss: 0.2403 - mae: 0.3304 - mse: 0.2302 - val_loss: 0.2399 - val_mae: 0.3297 - val_mse: 0.2298\n",
            "Epoch 51/400\n",
            "197/197 [==============================] - 0s 2ms/step - loss: 0.2403 - mae: 0.3308 - mse: 0.2303 - val_loss: 0.2449 - val_mae: 0.3367 - val_mse: 0.2350\n",
            "Epoch 52/400\n",
            "197/197 [==============================] - 0s 2ms/step - loss: 0.2401 - mae: 0.3300 - mse: 0.2302 - val_loss: 0.2381 - val_mae: 0.3296 - val_mse: 0.2282\n",
            "Epoch 53/400\n",
            "197/197 [==============================] - 0s 2ms/step - loss: 0.2393 - mae: 0.3293 - mse: 0.2294 - val_loss: 0.2423 - val_mae: 0.3350 - val_mse: 0.2324\n",
            "Epoch 54/400\n",
            "197/197 [==============================] - 1s 3ms/step - loss: 0.2400 - mae: 0.3305 - mse: 0.2302 - val_loss: 0.2405 - val_mae: 0.3348 - val_mse: 0.2309\n",
            "Epoch 55/400\n",
            "197/197 [==============================] - 0s 2ms/step - loss: 0.2389 - mae: 0.3295 - mse: 0.2293 - val_loss: 0.2376 - val_mae: 0.3276 - val_mse: 0.2279\n",
            "Epoch 56/400\n",
            "197/197 [==============================] - 1s 3ms/step - loss: 0.2382 - mae: 0.3290 - mse: 0.2286 - val_loss: 0.2431 - val_mae: 0.3336 - val_mse: 0.2334\n",
            "Epoch 57/400\n",
            "197/197 [==============================] - 0s 2ms/step - loss: 0.2389 - mae: 0.3294 - mse: 0.2294 - val_loss: 0.2407 - val_mae: 0.3339 - val_mse: 0.2312\n",
            "Epoch 58/400\n",
            "197/197 [==============================] - 0s 2ms/step - loss: 0.2381 - mae: 0.3290 - mse: 0.2287 - val_loss: 0.2372 - val_mae: 0.3300 - val_mse: 0.2278\n",
            "Epoch 59/400\n",
            "197/197 [==============================] - 0s 2ms/step - loss: 0.2372 - mae: 0.3277 - mse: 0.2279 - val_loss: 0.2361 - val_mae: 0.3276 - val_mse: 0.2268\n",
            "Epoch 60/400\n",
            "197/197 [==============================] - 0s 2ms/step - loss: 0.2367 - mae: 0.3273 - mse: 0.2275 - val_loss: 0.2358 - val_mae: 0.3274 - val_mse: 0.2266\n",
            "Epoch 61/400\n",
            "197/197 [==============================] - 0s 2ms/step - loss: 0.2368 - mae: 0.3286 - mse: 0.2277 - val_loss: 0.2354 - val_mae: 0.3276 - val_mse: 0.2262\n",
            "Epoch 62/400\n",
            "197/197 [==============================] - 0s 2ms/step - loss: 0.2370 - mae: 0.3279 - mse: 0.2279 - val_loss: 0.2360 - val_mae: 0.3289 - val_mse: 0.2268\n",
            "Epoch 63/400\n",
            "197/197 [==============================] - 0s 2ms/step - loss: 0.2362 - mae: 0.3281 - mse: 0.2271 - val_loss: 0.2361 - val_mae: 0.3281 - val_mse: 0.2272\n",
            "Epoch 64/400\n",
            "197/197 [==============================] - 0s 2ms/step - loss: 0.2364 - mae: 0.3285 - mse: 0.2274 - val_loss: 0.2343 - val_mae: 0.3271 - val_mse: 0.2253\n",
            "Epoch 65/400\n",
            "197/197 [==============================] - 0s 2ms/step - loss: 0.2361 - mae: 0.3275 - mse: 0.2272 - val_loss: 0.2347 - val_mae: 0.3282 - val_mse: 0.2259\n",
            "Epoch 66/400\n",
            "197/197 [==============================] - 1s 3ms/step - loss: 0.2357 - mae: 0.3273 - mse: 0.2269 - val_loss: 0.2339 - val_mae: 0.3258 - val_mse: 0.2250\n",
            "Epoch 67/400\n",
            "197/197 [==============================] - 1s 3ms/step - loss: 0.2350 - mae: 0.3271 - mse: 0.2263 - val_loss: 0.2339 - val_mae: 0.3267 - val_mse: 0.2251\n",
            "Epoch 68/400\n",
            "197/197 [==============================] - 0s 2ms/step - loss: 0.2352 - mae: 0.3274 - mse: 0.2265 - val_loss: 0.2347 - val_mae: 0.3283 - val_mse: 0.2260\n",
            "Epoch 69/400\n",
            "197/197 [==============================] - 1s 3ms/step - loss: 0.2350 - mae: 0.3265 - mse: 0.2264 - val_loss: 0.2329 - val_mae: 0.3275 - val_mse: 0.2243\n",
            "Epoch 70/400\n",
            "197/197 [==============================] - 1s 3ms/step - loss: 0.2351 - mae: 0.3273 - mse: 0.2266 - val_loss: 0.2343 - val_mae: 0.3285 - val_mse: 0.2259\n",
            "Epoch 71/400\n",
            "197/197 [==============================] - 1s 3ms/step - loss: 0.2348 - mae: 0.3278 - mse: 0.2262 - val_loss: 0.2338 - val_mae: 0.3263 - val_mse: 0.2254\n",
            "Epoch 72/400\n",
            "197/197 [==============================] - 1s 3ms/step - loss: 0.2351 - mae: 0.3267 - mse: 0.2266 - val_loss: 0.2323 - val_mae: 0.3259 - val_mse: 0.2239\n",
            "Epoch 73/400\n",
            "197/197 [==============================] - 1s 3ms/step - loss: 0.2337 - mae: 0.3263 - mse: 0.2254 - val_loss: 0.2314 - val_mae: 0.3244 - val_mse: 0.2229\n",
            "Epoch 74/400\n",
            "197/197 [==============================] - 1s 3ms/step - loss: 0.2338 - mae: 0.3262 - mse: 0.2255 - val_loss: 0.2324 - val_mae: 0.3238 - val_mse: 0.2241\n",
            "Epoch 75/400\n",
            "197/197 [==============================] - 0s 2ms/step - loss: 0.2341 - mae: 0.3265 - mse: 0.2258 - val_loss: 0.2413 - val_mae: 0.3339 - val_mse: 0.2331\n",
            "Epoch 76/400\n",
            "197/197 [==============================] - 0s 2ms/step - loss: 0.2341 - mae: 0.3263 - mse: 0.2259 - val_loss: 0.2324 - val_mae: 0.3258 - val_mse: 0.2242\n",
            "Epoch 77/400\n",
            "197/197 [==============================] - 1s 3ms/step - loss: 0.2333 - mae: 0.3258 - mse: 0.2251 - val_loss: 0.2311 - val_mae: 0.3245 - val_mse: 0.2230\n",
            "Epoch 78/400\n",
            "197/197 [==============================] - 0s 2ms/step - loss: 0.2330 - mae: 0.3255 - mse: 0.2249 - val_loss: 0.2369 - val_mae: 0.3316 - val_mse: 0.2287\n",
            "Epoch 79/400\n",
            "197/197 [==============================] - 1s 3ms/step - loss: 0.2338 - mae: 0.3269 - mse: 0.2257 - val_loss: 0.2364 - val_mae: 0.3301 - val_mse: 0.2283\n",
            "Epoch 80/400\n",
            "197/197 [==============================] - 0s 3ms/step - loss: 0.2333 - mae: 0.3256 - mse: 0.2253 - val_loss: 0.2310 - val_mae: 0.3254 - val_mse: 0.2230\n",
            "Epoch 81/400\n",
            "197/197 [==============================] - 1s 3ms/step - loss: 0.2325 - mae: 0.3247 - mse: 0.2244 - val_loss: 0.2291 - val_mae: 0.3221 - val_mse: 0.2211\n",
            "Epoch 82/400\n",
            "197/197 [==============================] - 1s 3ms/step - loss: 0.2322 - mae: 0.3248 - mse: 0.2242 - val_loss: 0.2317 - val_mae: 0.3251 - val_mse: 0.2236\n",
            "Epoch 83/400\n",
            "197/197 [==============================] - 0s 2ms/step - loss: 0.2332 - mae: 0.3258 - mse: 0.2253 - val_loss: 0.2292 - val_mae: 0.3236 - val_mse: 0.2213\n",
            "Epoch 84/400\n",
            "197/197 [==============================] - 0s 2ms/step - loss: 0.2319 - mae: 0.3248 - mse: 0.2240 - val_loss: 0.2305 - val_mae: 0.3251 - val_mse: 0.2226\n",
            "Epoch 85/400\n",
            "197/197 [==============================] - 0s 2ms/step - loss: 0.2317 - mae: 0.3245 - mse: 0.2238 - val_loss: 0.2325 - val_mae: 0.3273 - val_mse: 0.2247\n",
            "Epoch 86/400\n",
            "197/197 [==============================] - 1s 3ms/step - loss: 0.2315 - mae: 0.3249 - mse: 0.2237 - val_loss: 0.2310 - val_mae: 0.3253 - val_mse: 0.2232\n",
            "Epoch 87/400\n",
            "197/197 [==============================] - 0s 2ms/step - loss: 0.2321 - mae: 0.3254 - mse: 0.2244 - val_loss: 0.2290 - val_mae: 0.3224 - val_mse: 0.2212\n",
            "Epoch 88/400\n",
            "197/197 [==============================] - 1s 3ms/step - loss: 0.2317 - mae: 0.3245 - mse: 0.2240 - val_loss: 0.2286 - val_mae: 0.3224 - val_mse: 0.2209\n",
            "Epoch 89/400\n",
            "197/197 [==============================] - 0s 2ms/step - loss: 0.2317 - mae: 0.3248 - mse: 0.2240 - val_loss: 0.2311 - val_mae: 0.3256 - val_mse: 0.2235\n",
            "Epoch 90/400\n",
            "197/197 [==============================] - 1s 3ms/step - loss: 0.2317 - mae: 0.3255 - mse: 0.2241 - val_loss: 0.2296 - val_mae: 0.3227 - val_mse: 0.2219\n",
            "Epoch 91/400\n",
            "197/197 [==============================] - 1s 3ms/step - loss: 0.2313 - mae: 0.3244 - mse: 0.2236 - val_loss: 0.2287 - val_mae: 0.3238 - val_mse: 0.2212\n",
            "Epoch 92/400\n",
            "197/197 [==============================] - 1s 3ms/step - loss: 0.2308 - mae: 0.3239 - mse: 0.2232 - val_loss: 0.2313 - val_mae: 0.3260 - val_mse: 0.2237\n",
            "Epoch 93/400\n",
            "197/197 [==============================] - 1s 3ms/step - loss: 0.2309 - mae: 0.3245 - mse: 0.2233 - val_loss: 0.2292 - val_mae: 0.3234 - val_mse: 0.2216\n",
            "Epoch 94/400\n",
            "197/197 [==============================] - 1s 3ms/step - loss: 0.2305 - mae: 0.3242 - mse: 0.2230 - val_loss: 0.2302 - val_mae: 0.3255 - val_mse: 0.2229\n",
            "Epoch 95/400\n",
            "197/197 [==============================] - 0s 2ms/step - loss: 0.2309 - mae: 0.3247 - mse: 0.2234 - val_loss: 0.2289 - val_mae: 0.3238 - val_mse: 0.2214\n",
            "Epoch 96/400\n",
            "197/197 [==============================] - 1s 3ms/step - loss: 0.2300 - mae: 0.3233 - mse: 0.2225 - val_loss: 0.2279 - val_mae: 0.3233 - val_mse: 0.2205\n",
            "Epoch 97/400\n",
            "197/197 [==============================] - 1s 3ms/step - loss: 0.2309 - mae: 0.3245 - mse: 0.2235 - val_loss: 0.2274 - val_mae: 0.3220 - val_mse: 0.2201\n",
            "Epoch 98/400\n",
            "197/197 [==============================] - 1s 3ms/step - loss: 0.2306 - mae: 0.3244 - mse: 0.2232 - val_loss: 0.2273 - val_mae: 0.3224 - val_mse: 0.2199\n",
            "Epoch 99/400\n",
            "197/197 [==============================] - 0s 2ms/step - loss: 0.2299 - mae: 0.3231 - mse: 0.2225 - val_loss: 0.2290 - val_mae: 0.3238 - val_mse: 0.2217\n",
            "Epoch 100/400\n",
            "197/197 [==============================] - 1s 3ms/step - loss: 0.2294 - mae: 0.3231 - mse: 0.2220 - val_loss: 0.2274 - val_mae: 0.3232 - val_mse: 0.2201\n",
            "Epoch 101/400\n",
            "197/197 [==============================] - 1s 3ms/step - loss: 0.2292 - mae: 0.3234 - mse: 0.2219 - val_loss: 0.2300 - val_mae: 0.3265 - val_mse: 0.2227\n",
            "Epoch 102/400\n",
            "197/197 [==============================] - 0s 2ms/step - loss: 0.2296 - mae: 0.3229 - mse: 0.2223 - val_loss: 0.2267 - val_mae: 0.3216 - val_mse: 0.2194\n",
            "Epoch 103/400\n",
            "197/197 [==============================] - 0s 2ms/step - loss: 0.2291 - mae: 0.3230 - mse: 0.2218 - val_loss: 0.2278 - val_mae: 0.3244 - val_mse: 0.2206\n",
            "Epoch 104/400\n",
            "197/197 [==============================] - 0s 2ms/step - loss: 0.2295 - mae: 0.3235 - mse: 0.2223 - val_loss: 0.2271 - val_mae: 0.3222 - val_mse: 0.2198\n",
            "Epoch 105/400\n",
            "197/197 [==============================] - 1s 3ms/step - loss: 0.2289 - mae: 0.3231 - mse: 0.2217 - val_loss: 0.2272 - val_mae: 0.3225 - val_mse: 0.2200\n",
            "Epoch 106/400\n",
            "197/197 [==============================] - 1s 3ms/step - loss: 0.2292 - mae: 0.3231 - mse: 0.2220 - val_loss: 0.2263 - val_mae: 0.3214 - val_mse: 0.2191\n",
            "Epoch 107/400\n",
            "197/197 [==============================] - 1s 3ms/step - loss: 0.2298 - mae: 0.3238 - mse: 0.2227 - val_loss: 0.2330 - val_mae: 0.3287 - val_mse: 0.2258\n",
            "Epoch 108/400\n",
            "197/197 [==============================] - 0s 2ms/step - loss: 0.2290 - mae: 0.3225 - mse: 0.2218 - val_loss: 0.2270 - val_mae: 0.3228 - val_mse: 0.2199\n",
            "Epoch 109/400\n",
            "197/197 [==============================] - 0s 2ms/step - loss: 0.2288 - mae: 0.3227 - mse: 0.2216 - val_loss: 0.2271 - val_mae: 0.3221 - val_mse: 0.2198\n",
            "Epoch 110/400\n",
            "197/197 [==============================] - 0s 2ms/step - loss: 0.2292 - mae: 0.3238 - mse: 0.2221 - val_loss: 0.2311 - val_mae: 0.3271 - val_mse: 0.2240\n",
            "Epoch 111/400\n",
            "197/197 [==============================] - 1s 3ms/step - loss: 0.2283 - mae: 0.3223 - mse: 0.2212 - val_loss: 0.2283 - val_mae: 0.3240 - val_mse: 0.2213\n",
            "Epoch 112/400\n",
            "197/197 [==============================] - 0s 2ms/step - loss: 0.2280 - mae: 0.3225 - mse: 0.2209 - val_loss: 0.2265 - val_mae: 0.3214 - val_mse: 0.2195\n",
            "Epoch 113/400\n",
            "197/197 [==============================] - 0s 2ms/step - loss: 0.2280 - mae: 0.3224 - mse: 0.2209 - val_loss: 0.2264 - val_mae: 0.3211 - val_mse: 0.2193\n",
            "Epoch 114/400\n",
            "197/197 [==============================] - 0s 2ms/step - loss: 0.2279 - mae: 0.3224 - mse: 0.2208 - val_loss: 0.2258 - val_mae: 0.3213 - val_mse: 0.2189\n",
            "Epoch 115/400\n",
            "197/197 [==============================] - 0s 2ms/step - loss: 0.2274 - mae: 0.3219 - mse: 0.2204 - val_loss: 0.2291 - val_mae: 0.3242 - val_mse: 0.2221\n",
            "Epoch 116/400\n",
            "197/197 [==============================] - 1s 3ms/step - loss: 0.2275 - mae: 0.3218 - mse: 0.2204 - val_loss: 0.2287 - val_mae: 0.3232 - val_mse: 0.2217\n",
            "Epoch 117/400\n",
            "197/197 [==============================] - 0s 2ms/step - loss: 0.2279 - mae: 0.3228 - mse: 0.2210 - val_loss: 0.2283 - val_mae: 0.3247 - val_mse: 0.2214\n",
            "Epoch 118/400\n",
            "197/197 [==============================] - 1s 3ms/step - loss: 0.2278 - mae: 0.3223 - mse: 0.2208 - val_loss: 0.2262 - val_mae: 0.3207 - val_mse: 0.2192\n",
            "Epoch 119/400\n",
            "197/197 [==============================] - 1s 3ms/step - loss: 0.2273 - mae: 0.3219 - mse: 0.2203 - val_loss: 0.2254 - val_mae: 0.3206 - val_mse: 0.2186\n",
            "Epoch 120/400\n",
            "197/197 [==============================] - 0s 2ms/step - loss: 0.2272 - mae: 0.3223 - mse: 0.2203 - val_loss: 0.2257 - val_mae: 0.3206 - val_mse: 0.2188\n",
            "Epoch 121/400\n",
            "197/197 [==============================] - 0s 3ms/step - loss: 0.2271 - mae: 0.3218 - mse: 0.2202 - val_loss: 0.2252 - val_mae: 0.3208 - val_mse: 0.2182\n",
            "Epoch 122/400\n",
            "197/197 [==============================] - 0s 2ms/step - loss: 0.2274 - mae: 0.3222 - mse: 0.2205 - val_loss: 0.2284 - val_mae: 0.3244 - val_mse: 0.2215\n",
            "Epoch 123/400\n",
            "197/197 [==============================] - 0s 2ms/step - loss: 0.2280 - mae: 0.3229 - mse: 0.2211 - val_loss: 0.2267 - val_mae: 0.3222 - val_mse: 0.2197\n",
            "Epoch 124/400\n",
            "197/197 [==============================] - 0s 2ms/step - loss: 0.2279 - mae: 0.3225 - mse: 0.2210 - val_loss: 0.2255 - val_mae: 0.3216 - val_mse: 0.2186\n",
            "Epoch 125/400\n",
            "197/197 [==============================] - 1s 3ms/step - loss: 0.2262 - mae: 0.3209 - mse: 0.2193 - val_loss: 0.2253 - val_mae: 0.3206 - val_mse: 0.2185\n",
            "Epoch 126/400\n",
            "197/197 [==============================] - 0s 2ms/step - loss: 0.2269 - mae: 0.3214 - mse: 0.2200 - val_loss: 0.2265 - val_mae: 0.3227 - val_mse: 0.2197\n",
            "Epoch 127/400\n",
            "197/197 [==============================] - 0s 2ms/step - loss: 0.2272 - mae: 0.3225 - mse: 0.2204 - val_loss: 0.2271 - val_mae: 0.3246 - val_mse: 0.2203\n",
            "Epoch 128/400\n",
            "197/197 [==============================] - 1s 3ms/step - loss: 0.2265 - mae: 0.3213 - mse: 0.2196 - val_loss: 0.2252 - val_mae: 0.3217 - val_mse: 0.2184\n",
            "Epoch 129/400\n",
            "197/197 [==============================] - 0s 2ms/step - loss: 0.2267 - mae: 0.3217 - mse: 0.2198 - val_loss: 0.2291 - val_mae: 0.3277 - val_mse: 0.2224\n",
            "Epoch 130/400\n",
            "197/197 [==============================] - 0s 2ms/step - loss: 0.2265 - mae: 0.3213 - mse: 0.2197 - val_loss: 0.2247 - val_mae: 0.3217 - val_mse: 0.2180\n",
            "Epoch 131/400\n",
            "197/197 [==============================] - 0s 3ms/step - loss: 0.2262 - mae: 0.3215 - mse: 0.2194 - val_loss: 0.2242 - val_mae: 0.3199 - val_mse: 0.2174\n",
            "Epoch 132/400\n",
            "197/197 [==============================] - 1s 3ms/step - loss: 0.2271 - mae: 0.3224 - mse: 0.2204 - val_loss: 0.2237 - val_mae: 0.3190 - val_mse: 0.2169\n",
            "Epoch 133/400\n",
            "197/197 [==============================] - 1s 3ms/step - loss: 0.2257 - mae: 0.3211 - mse: 0.2189 - val_loss: 0.2233 - val_mae: 0.3199 - val_mse: 0.2166\n",
            "Epoch 134/400\n",
            "197/197 [==============================] - 0s 2ms/step - loss: 0.2264 - mae: 0.3218 - mse: 0.2196 - val_loss: 0.2268 - val_mae: 0.3245 - val_mse: 0.2201\n",
            "Epoch 135/400\n",
            "197/197 [==============================] - 1s 3ms/step - loss: 0.2273 - mae: 0.3228 - mse: 0.2206 - val_loss: 0.2238 - val_mae: 0.3197 - val_mse: 0.2171\n",
            "Epoch 136/400\n",
            "197/197 [==============================] - 1s 7ms/step - loss: 0.2252 - mae: 0.3211 - mse: 0.2185 - val_loss: 0.2230 - val_mae: 0.3196 - val_mse: 0.2164\n",
            "Epoch 137/400\n",
            "197/197 [==============================] - 1s 3ms/step - loss: 0.2263 - mae: 0.3223 - mse: 0.2196 - val_loss: 0.2281 - val_mae: 0.3241 - val_mse: 0.2213\n",
            "Epoch 138/400\n",
            "197/197 [==============================] - 1s 3ms/step - loss: 0.2255 - mae: 0.3211 - mse: 0.2188 - val_loss: 0.2250 - val_mae: 0.3212 - val_mse: 0.2183\n",
            "Epoch 139/400\n",
            "197/197 [==============================] - 0s 2ms/step - loss: 0.2260 - mae: 0.3218 - mse: 0.2193 - val_loss: 0.2267 - val_mae: 0.3244 - val_mse: 0.2200\n",
            "Epoch 140/400\n",
            "197/197 [==============================] - 0s 2ms/step - loss: 0.2251 - mae: 0.3209 - mse: 0.2184 - val_loss: 0.2241 - val_mae: 0.3202 - val_mse: 0.2174\n",
            "Epoch 141/400\n",
            "197/197 [==============================] - 1s 3ms/step - loss: 0.2257 - mae: 0.3214 - mse: 0.2190 - val_loss: 0.2242 - val_mae: 0.3200 - val_mse: 0.2175\n",
            "Epoch 142/400\n",
            "197/197 [==============================] - 0s 2ms/step - loss: 0.2258 - mae: 0.3223 - mse: 0.2192 - val_loss: 0.2234 - val_mae: 0.3193 - val_mse: 0.2167\n",
            "Epoch 143/400\n",
            "197/197 [==============================] - 1s 3ms/step - loss: 0.2260 - mae: 0.3222 - mse: 0.2193 - val_loss: 0.2228 - val_mae: 0.3184 - val_mse: 0.2161\n",
            "Epoch 144/400\n",
            "197/197 [==============================] - 1s 3ms/step - loss: 0.2248 - mae: 0.3202 - mse: 0.2182 - val_loss: 0.2250 - val_mae: 0.3219 - val_mse: 0.2183\n",
            "Epoch 145/400\n",
            "197/197 [==============================] - 0s 3ms/step - loss: 0.2253 - mae: 0.3215 - mse: 0.2187 - val_loss: 0.2227 - val_mae: 0.3200 - val_mse: 0.2162\n",
            "Epoch 146/400\n",
            "197/197 [==============================] - 0s 2ms/step - loss: 0.2250 - mae: 0.3212 - mse: 0.2184 - val_loss: 0.2253 - val_mae: 0.3223 - val_mse: 0.2187\n",
            "Epoch 147/400\n",
            "197/197 [==============================] - 1s 3ms/step - loss: 0.2247 - mae: 0.3207 - mse: 0.2181 - val_loss: 0.2243 - val_mae: 0.3221 - val_mse: 0.2176\n",
            "Epoch 148/400\n",
            "197/197 [==============================] - 0s 2ms/step - loss: 0.2253 - mae: 0.3211 - mse: 0.2187 - val_loss: 0.2251 - val_mae: 0.3220 - val_mse: 0.2185\n",
            "Epoch 149/400\n",
            "197/197 [==============================] - 1s 3ms/step - loss: 0.2243 - mae: 0.3204 - mse: 0.2177 - val_loss: 0.2262 - val_mae: 0.3221 - val_mse: 0.2196\n",
            "Epoch 150/400\n",
            "197/197 [==============================] - 0s 2ms/step - loss: 0.2260 - mae: 0.3218 - mse: 0.2194 - val_loss: 0.2248 - val_mae: 0.3230 - val_mse: 0.2182\n",
            "Epoch 151/400\n",
            "197/197 [==============================] - 0s 3ms/step - loss: 0.2242 - mae: 0.3208 - mse: 0.2176 - val_loss: 0.2269 - val_mae: 0.3239 - val_mse: 0.2204\n",
            "Epoch 152/400\n",
            "197/197 [==============================] - 1s 3ms/step - loss: 0.2248 - mae: 0.3207 - mse: 0.2182 - val_loss: 0.2230 - val_mae: 0.3207 - val_mse: 0.2163\n",
            "Epoch 153/400\n",
            "197/197 [==============================] - 1s 3ms/step - loss: 0.2241 - mae: 0.3204 - mse: 0.2174 - val_loss: 0.2237 - val_mae: 0.3201 - val_mse: 0.2171\n",
            "Epoch 154/400\n",
            "197/197 [==============================] - 0s 2ms/step - loss: 0.2238 - mae: 0.3202 - mse: 0.2172 - val_loss: 0.2270 - val_mae: 0.3255 - val_mse: 0.2203\n",
            "Epoch 155/400\n",
            "197/197 [==============================] - 1s 3ms/step - loss: 0.2240 - mae: 0.3206 - mse: 0.2174 - val_loss: 0.2233 - val_mae: 0.3195 - val_mse: 0.2167\n"
          ]
        }
      ]
    },
    {
      "cell_type": "markdown",
      "source": [
        "# <h2><font color=\"#0A66C2\"> **Fase 9: graficar el proceso de entrenamiento**"
      ],
      "metadata": {
        "id": "UdWm3u8i8eT3"
      }
    },
    {
      "cell_type": "code",
      "source": [
        "def plot_history(history):\n",
        "  plt.plot(history.history['loss'])\n",
        "  plt.plot(history.history['val_loss'])\n",
        "  plt.title('Model Loss')\n",
        "  plt.ylabel('loss')\n",
        "  plt.xlabel('epoch')\n",
        "  plt.legend(['Train, Selecction'], loc = 'upper left')\n",
        "  plt.show()"
      ],
      "metadata": {
        "id": "2e5lXa6p8o_3"
      },
      "execution_count": 22,
      "outputs": []
    },
    {
      "cell_type": "code",
      "source": [
        "plot_history (history)"
      ],
      "metadata": {
        "colab": {
          "base_uri": "https://localhost:8080/",
          "height": 295
        },
        "id": "eT42oU6_9hsQ",
        "outputId": "89ba250d-ec1b-4d21-81fd-72ea82c1230d"
      },
      "execution_count": 23,
      "outputs": [
        {
          "output_type": "display_data",
          "data": {
            "text/plain": [
              "<Figure size 432x288 with 1 Axes>"
            ],
            "image/png": "[encoded data removed]"
          },
          "metadata": {
            "needs_background": "light"
          }
        }
      ]
    },
    {
      "cell_type": "markdown",
      "source": [
        "# <h2><font color=\"#0A66C2\"> **Fase 10: test**"
      ],
      "metadata": {
        "id": "6K_42BqU9uBn"
      }
    },
    {
      "cell_type": "markdown",
      "source": [
        "Finalmente, **predecimos los datos de prueba con nuestro modelo y los comparamos con los valores reales.**"
      ],
      "metadata": {
        "id": "JdrJpVTa_8xj"
      }
    },
    {
      "cell_type": "code",
      "source": [
        "y_predicted = model.predict (X_test)\n",
        "print('r2_score: ', r2_score (y_test, y_predicted))"
      ],
      "metadata": {
        "colab": {
          "base_uri": "https://localhost:8080/"
        },
        "id": "JhPYqLqbFADJ",
        "outputId": "58091f2b-8e17-40df-822d-60eb5b172243"
      },
      "execution_count": 24,
      "outputs": [
        {
          "output_type": "stream",
          "name": "stdout",
          "text": [
            "379/379 [==============================] - 1s 1ms/step\n",
            "r2_score:  0.7778832382929926\n"
          ]
        }
      ]
    },
    {
      "cell_type": "markdown",
      "source": [
        "### <font color=\"#333F49\">**linear regression analysis** <font>"
      ],
      "metadata": {
        "id": "6w5IXZ5xlBdu"
      }
    },
    {
      "cell_type": "code",
      "source": [
        "fig,ax = plt.subplots()\n",
        "ax.scatter (y_test, y_predicted, s=10)\n",
        "lims = [\n",
        "    np.min([ax.get_xlim(), ax.get_ylim()]),\n",
        "    np.max([ax.get_xlim(), ax.get_ylim()]),\n",
        "]\n",
        "ax.plot(lims, lims, 'k-', alpha=0.75, zorder=0)\n",
        "ax.set_aspect('equal')\n",
        "ax.set_xlim(lims)\n",
        "ax.set_ylim(lims)\n",
        "ax.title.set_text('NOx linear regression')\n",
        "ax.set_xlabel('Real NOx')\n",
        "ax.set_ylabel('Predicted NOx')\n"
      ],
      "metadata": {
        "colab": {
          "base_uri": "https://localhost:8080/",
          "height": 312
        },
        "id": "o2uRrxmDlKsM",
        "outputId": "f0002815-1771-498b-90cd-f245c0a177d9"
      },
      "execution_count": 28,
      "outputs": [
        {
          "output_type": "execute_result",
          "data": {
            "text/plain": [
              "Text(0, 0.5, 'Predicted NOx')"
            ]
          },
          "metadata": {},
          "execution_count": 28
        },
        {
          "output_type": "display_data",
          "data": {
            "text/plain": [
              "<Figure size 432x288 with 1 Axes>"
            ],
            "image/png": "[encoded data removed]"
          },
          "metadata": {
            "needs_background": "light"
          }
        }
      ]
    },
    {
      "cell_type": "markdown",
      "source": [
        "# <h2><font color=\"#0A66C2\"> **Fase 11: implementación**"
      ],
      "metadata": {
        "id": "PzQbZR8l-WiQ"
      }
    },
    {
      "cell_type": "markdown",
      "source": [
        "Podemos cargar el modelo entrenado para utilizarlo en un despliegue posterior."
      ],
      "metadata": {
        "id": "sD4sGfQH-v1D"
      }
    },
    {
      "cell_type": "markdown",
      "source": [
        "### <font color=\"#333F49\">**save model** <font>"
      ],
      "metadata": {
        "id": "V2cHrqSI_BzI"
      }
    },
    {
      "cell_type": "code",
      "source": [
        "model.save('/content/')"
      ],
      "metadata": {
        "id": "pk0CySO8_H4y"
      },
      "execution_count": 29,
      "outputs": []
    },
    {
      "cell_type": "markdown",
      "source": [
        "### <font color=\"#333F49\">**load model** <font>"
      ],
      "metadata": {
        "id": "_-7vcTc7_g_Y"
      }
    },
    {
      "cell_type": "code",
      "source": [
        "loaded_model = keras.models.load_model('/content/')"
      ],
      "metadata": {
        "id": "ulAveMjY_sqQ"
      },
      "execution_count": 30,
      "outputs": []
    },
    {
      "cell_type": "markdown",
      "source": [
        "### <font color=\"#333F49\">**save | load scaler** <font>"
      ],
      "metadata": {
        "id": "AzYhpen8_3hA"
      }
    },
    {
      "cell_type": "code",
      "source": [
        "dump(scaler, '/content/std_scaler.bin', compress=True)\n",
        "\n",
        "sc = load('/content/std_scaler.bin')\n"
      ],
      "metadata": {
        "id": "TbdhF8CBABkV"
      },
      "execution_count": 31,
      "outputs": []
    },
    {
      "cell_type": "markdown",
      "source": [
        "### <font color=\"#333F49\">**Por último, podemos obtener las emisiones de NOx para valores de entrada aleatorios** <font>"
      ],
      "metadata": {
        "id": "df3aU7XcAiI3"
      }
    },
    {
      "cell_type": "code",
      "source": [
        "in_array = np.array([5.0,1020.0,85.3,4.23,20.12,1100.0,552.196,139.54,12.65,0.00])\n",
        "\n",
        "X_deploy = sc.transform(in_array.reshape(1,-1))\n",
        "X_input = X_deploy[0][0:9]\n",
        "\n",
        "X_input = pd.Series(X_input)\n",
        "y_deploy = loaded_model.predict(X_input.values.reshape(1,-1))\n",
        "\n",
        "deploy_row = np.append(X_input, y_deploy[0])\n",
        "\n",
        "Nox_deploy = sc.inverse_transform(deploy_row.reshape(1,-1))[0][9]\n",
        "\n",
        "print('NOx emissions predicted:',Nox_deploy)"
      ],
      "metadata": {
        "colab": {
          "base_uri": "https://localhost:8080/"
        },
        "id": "GVOiWZNEAzUz",
        "outputId": "3c37bdce-4441-4e48-812b-e38baeb4715a"
      },
      "execution_count": 32,
      "outputs": [
        {
          "output_type": "stream",
          "name": "stdout",
          "text": [
            "1/1 [==============================] - 0s 77ms/step\n",
            "NOx emissions predicted: 86.79160666193494\n"
          ]
        },
        {
          "output_type": "stream",
          "name": "stderr",
          "text": [
            "/usr/local/lib/python3.7/dist-packages/sklearn/base.py:451: UserWarning: X does not have valid feature names, but StandardScaler was fitted with feature names\n",
            "  \"X does not have valid feature names, but\"\n"
          ]
        }
      ]
    }
  ]
}